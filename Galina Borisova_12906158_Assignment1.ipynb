{
 "cells": [
  {
   "cell_type": "markdown",
   "metadata": {},
   "source": [
    "# Introduction"
   ]
  },
  {
   "cell_type": "markdown",
   "metadata": {},
   "source": [
    "Within the current US presidential campaign the public relations and marketing firm was employed by the US democratic party to help developing a communication strategy for the democrats political campaign. Given that nowadays online communication is a very important public sphere one of the goals of this company is to trace what kind of tweets draw more attention of online audience/potential voters and therefore get more retweets than others. \n",
    "\n",
    "   Some scholars contend that the modern politics is now deeply intertwined with popular culture that causes the intervention of emotionality in the political sphere. In other words, it means that people seek certain kinds of emotionalized experience from politics that they used to obtain from the popular culture only (Richards, 2004). In this light, sentiments are the important factor that should be analyzed and taken into consideration while developing and running the election campaign. \n",
    "\n",
    "Therefore, the company established emotionality as an important criterion for analyzing the tweets about the democrats. Political advertising is one of the areas where people's emotions and its role in communication is being scrutinized in the academic circles as well as among PR practitioners especially prior the US presidential election, therefore, the following research question is of high academic and societal relevance:\n",
    "   \n",
    "   To what extent does the negative tone of the tweets about democrats increase amount of retweets compared to positive tone?\n"
   ]
  },
  {
   "cell_type": "markdown",
   "metadata": {},
   "source": [
    "# Hypothesis"
   ]
  },
  {
   "cell_type": "markdown",
   "metadata": {},
   "source": [
    "With regards to the audience reaction to the tone of the information there is an increasing array of articles in political science and psychology that suggests that the effect of increase in negativity of the message has greater influence over the recipient’s perception than the increase in positivity of the same amplitude. In psychology literature on impression formation researchers revealed that unfavorable information has a greater impact on impressions than does favorable information in very different life situations (Singh and Teoh 2000).\n",
    "\n",
    "This tenet of psychologists was supported by the scholars that examined the role of the news sentiments over readers’ perception (Soroka, 2006; Damstra & Boukes, 2018) especially while reading economic journalistic features (Tetlock, 2007). Such asymmetric responsiveness could be explained by the fact that people care more strongly about a potential loss (including financial loss) than they do about a gain of the same value (Kahneman & Tversky, 1979).\n",
    "\n",
    "Meanwhile asymmetry in responses to negative versus positive information was also revealed in the political domain by the researchers. There is evidence that negative information plays a greater role in voting behaviour and, more specifically, that U.S. presidents were tremendously punished by the electorate for negative economic trends but gained lesser electoral benefits from positive trends (Nannestad and Paldam, 1997). 'Asymmetries have also been identified in the formation of more general impressions of U.S. presidential candidates and parties and negativity was found to have a greater effect on voters impression than positivity' according to Niven (2000).\n",
    "\n",
    "To sum it up, the tendency of assymetric response to negative and positive information were found not in psychological scholarship, but also in the literature on politics. Deploying academic findings mentioned above for our examining case, the company hypothesizes the following:\n",
    "\n",
    "H1: Negative tweets about the democrats get more retweets than positive tweets.\n",
    "\n",
    "Based on the literature the following key concept is going to be used in this work:\n",
    "\n",
    "Influence of tweets sentiment over Twitter users’ behavior ‒ the effect of tone of the tweets over the decision of the readers to retweet such information. \n"
   ]
  },
  {
   "cell_type": "markdown",
   "metadata": {},
   "source": [
    "# Gathering Data"
   ]
  },
  {
   "cell_type": "markdown",
   "metadata": {},
   "source": [
    "The data was collected by requesting the collection of the tweets using the following key words: 'democrat', 'democrats', 'Democrat', 'Democrats'. Such query would enable the company to analyze tweets about democrats ('GalinaBorisova_export.pkl'). \n",
    "\n",
    "After the tweets were gathered the sentiment analysis (using SentiStrength) was requested and performed to identify positive/negative and neutral sentiments in each tweet ('GalinaBorisova_EN.pkl'). Such emotions were detected per article, however, to identify the overall sentiment of the tweets we created the corresponding column by summarizing positive and negative sentiments (see the 'Data Cleaning' section of the current work below).\n",
    "\n",
    "The third file with the retweets on the initial tweeter file were requested and obtained to analyze which tweets about democrats drew more attention from the audience ('GalinaBorisova_retweets.pkl'). The retweets file was created using the automated script, that getting the number of tweets that have been retweeted.\n",
    "\n",
    "Overall, the three mentioned datasets were established as necessary to answer the research question.\n"
   ]
  },
  {
   "cell_type": "markdown",
   "metadata": {},
   "source": [
    "Loading the datasets in Pandas."
   ]
  },
  {
   "cell_type": "code",
   "execution_count": 942,
   "metadata": {},
   "outputs": [],
   "source": [
    "import pandas as pd\n",
    "import seaborn as sns\n",
    "pd.set_option('display.float_format', lambda x: '%.3f' % x)\n",
    "%matplotlib inline\n",
    "from sklearn.linear_model import LogisticRegression, LinearRegression\n",
    "import statsmodels.api as sm"
   ]
  },
  {
   "cell_type": "code",
   "execution_count": 943,
   "metadata": {},
   "outputs": [],
   "source": [
    "sentiment=pd.read_pickle('GalinaBorisova_EN.pkl')\n",
    "retweets=pd.read_pickle('GalinaBorisova_retweets.pkl')\n",
    "tweets=pd.read_pickle('GalinaBorisova_export.pkl')"
   ]
  },
  {
   "cell_type": "markdown",
   "metadata": {},
   "source": [
    "# Merging the datasets "
   ]
  },
  {
   "cell_type": "markdown",
   "metadata": {},
   "source": [
    "To merge the three files let's first inspect the lenghts, the columns and datatypes they contain. To successfully merge the datasets we have to make sure that:\n",
    "\n",
    "1.They have the common column(s) with exactly the same names, that we can merge on.\n",
    "\n",
    "2.This indentified column(s) has the same datatype in all datasets."
   ]
  },
  {
   "cell_type": "code",
   "execution_count": 944,
   "metadata": {},
   "outputs": [
    {
     "data": {
      "text/plain": [
       "(89503, 9020, 89503)"
      ]
     },
     "execution_count": 944,
     "metadata": {},
     "output_type": "execute_result"
    }
   ],
   "source": [
    "len(tweets), len(retweets), len(sentiment)"
   ]
  },
  {
   "cell_type": "markdown",
   "metadata": {},
   "source": [
    "Let's take a closer look at the sentiment and tweets files. "
   ]
  },
  {
   "cell_type": "code",
   "execution_count": 945,
   "metadata": {},
   "outputs": [
    {
     "data": {
      "text/plain": [
       "Index(['id', 'created_at', 'from_user_name', 'from_user_id', 'from_user_lang',\n",
       "       'from_user_tweetcount', 'from_user_followercount',\n",
       "       'from_user_friendcount', 'from_user_listed', 'from_user_realname',\n",
       "       'from_user_utcoffset', 'from_user_timezone', 'from_user_description',\n",
       "       'from_user_url', 'from_user_verified', 'from_user_profile_image_url',\n",
       "       'from_user_created_at', 'from_user_withheld_scope',\n",
       "       'from_user_favourites_count', 'source', 'location', 'geo_lat',\n",
       "       'geo_lng', 'text', 'retweet_id', 'retweet_count', 'favorite_count',\n",
       "       'to_user_id', 'to_user_name', 'in_reply_to_status_id', 'filter_level',\n",
       "       'lang', 'possibly_sensitive', 'quoted_status_id', 'withheld_copyright',\n",
       "       'withheld_scope'],\n",
       "      dtype='object')"
      ]
     },
     "execution_count": 945,
     "metadata": {},
     "output_type": "execute_result"
    }
   ],
   "source": [
    "tweets.columns"
   ]
  },
  {
   "cell_type": "code",
   "execution_count": 681,
   "metadata": {},
   "outputs": [
    {
     "data": {
      "text/plain": [
       "Index(['id', 'created_at', 'from_user_name', 'from_user_id', 'from_user_lang',\n",
       "       'from_user_tweetcount', 'from_user_followercount',\n",
       "       'from_user_friendcount', 'from_user_listed', 'from_user_realname',\n",
       "       'from_user_utcoffset', 'from_user_timezone', 'from_user_description',\n",
       "       'from_user_url', 'from_user_verified', 'from_user_profile_image_url',\n",
       "       'from_user_created_at', 'from_user_withheld_scope',\n",
       "       'from_user_favourites_count', 'source', 'location', 'geo_lat',\n",
       "       'geo_lng', 'text', 'retweet_id', 'retweet_count', 'favorite_count',\n",
       "       'to_user_id', 'to_user_name', 'in_reply_to_status_id', 'filter_level',\n",
       "       'lang', 'possibly_sensitive', 'quoted_status_id', 'withheld_copyright',\n",
       "       'withheld_scope', 'negative', 'positive', 'neutral'],\n",
       "      dtype='object')"
      ]
     },
     "execution_count": 681,
     "metadata": {},
     "output_type": "execute_result"
    }
   ],
   "source": [
    "sentiment.columns"
   ]
  },
  {
   "cell_type": "markdown",
   "metadata": {},
   "source": [
    "Both files have a column 'lang' (language). Since the company work with the US politicians we are interested in English language only. However, let's inspect this column first."
   ]
  },
  {
   "cell_type": "code",
   "execution_count": 946,
   "metadata": {},
   "outputs": [
    {
     "data": {
      "text/plain": [
       "en     89103\n",
       "ja       135\n",
       "und       73\n",
       "th        66\n",
       "es        38\n",
       "fr        36\n",
       "ca        12\n",
       "ro         7\n",
       "tl         7\n",
       "de         5\n",
       "nl         3\n",
       "in         3\n",
       "cs         2\n",
       "pt         2\n",
       "cy         2\n",
       "fi         1\n",
       "hu         1\n",
       "sv         1\n",
       "it         1\n",
       "et         1\n",
       "tr         1\n",
       "ht         1\n",
       "da         1\n",
       "zh         1\n",
       "Name: lang, dtype: int64"
      ]
     },
     "execution_count": 946,
     "metadata": {},
     "output_type": "execute_result"
    }
   ],
   "source": [
    "sentiment['lang'].value_counts()"
   ]
  },
  {
   "cell_type": "code",
   "execution_count": 683,
   "metadata": {},
   "outputs": [
    {
     "data": {
      "text/plain": [
       "en     89103\n",
       "ja       135\n",
       "und       73\n",
       "th        66\n",
       "es        38\n",
       "fr        36\n",
       "ca        12\n",
       "ro         7\n",
       "tl         7\n",
       "de         5\n",
       "nl         3\n",
       "in         3\n",
       "cs         2\n",
       "pt         2\n",
       "cy         2\n",
       "fi         1\n",
       "hu         1\n",
       "sv         1\n",
       "it         1\n",
       "et         1\n",
       "tr         1\n",
       "ht         1\n",
       "da         1\n",
       "zh         1\n",
       "Name: lang, dtype: int64"
      ]
     },
     "execution_count": 683,
     "metadata": {},
     "output_type": "execute_result"
    }
   ],
   "source": [
    "tweets['lang'].value_counts()"
   ]
  },
  {
   "cell_type": "markdown",
   "metadata": {},
   "source": [
    "This column in both files looks the same. Let's clean it later under the 'Cleaning section'."
   ]
  },
  {
   "cell_type": "code",
   "execution_count": 947,
   "metadata": {},
   "outputs": [
    {
     "data": {
      "text/plain": [
       "89503"
      ]
     },
     "execution_count": 947,
     "metadata": {},
     "output_type": "execute_result"
    }
   ],
   "source": [
    "len(sentiment)"
   ]
  },
  {
   "cell_type": "code",
   "execution_count": 948,
   "metadata": {},
   "outputs": [
    {
     "data": {
      "text/plain": [
       "id                                     object\n",
       "created_at                     datetime64[ns]\n",
       "from_user_name                         object\n",
       "from_user_id                            int64\n",
       "from_user_lang                         object\n",
       "from_user_tweetcount                    int64\n",
       "from_user_followercount                 int64\n",
       "from_user_friendcount                   int64\n",
       "from_user_listed                        int64\n",
       "from_user_realname                     object\n",
       "from_user_utcoffset                    object\n",
       "from_user_timezone                     object\n",
       "from_user_description                  object\n",
       "from_user_url                          object\n",
       "from_user_verified                      int64\n",
       "from_user_profile_image_url            object\n",
       "from_user_created_at           datetime64[ns]\n",
       "from_user_withheld_scope               object\n",
       "from_user_favourites_count              int64\n",
       "source                                 object\n",
       "location                               object\n",
       "geo_lat                               float64\n",
       "geo_lng                               float64\n",
       "text                                   object\n",
       "retweet_id                            float64\n",
       "retweet_count                           int64\n",
       "favorite_count                          int64\n",
       "to_user_id                            float64\n",
       "to_user_name                           object\n",
       "in_reply_to_status_id                 float64\n",
       "filter_level                           object\n",
       "lang                                   object\n",
       "possibly_sensitive                    float64\n",
       "quoted_status_id                      float64\n",
       "withheld_copyright                     object\n",
       "withheld_scope                         object\n",
       "dtype: object"
      ]
     },
     "execution_count": 948,
     "metadata": {},
     "output_type": "execute_result"
    }
   ],
   "source": [
    "tweets.dtypes"
   ]
  },
  {
   "cell_type": "code",
   "execution_count": 949,
   "metadata": {},
   "outputs": [
    {
     "data": {
      "text/plain": [
       "id                                     object\n",
       "created_at                     datetime64[ns]\n",
       "from_user_name                         object\n",
       "from_user_id                            int64\n",
       "from_user_lang                         object\n",
       "from_user_tweetcount                    int64\n",
       "from_user_followercount                 int64\n",
       "from_user_friendcount                   int64\n",
       "from_user_listed                        int64\n",
       "from_user_realname                     object\n",
       "from_user_utcoffset                    object\n",
       "from_user_timezone                     object\n",
       "from_user_description                  object\n",
       "from_user_url                          object\n",
       "from_user_verified                      int64\n",
       "from_user_profile_image_url            object\n",
       "from_user_created_at           datetime64[ns]\n",
       "from_user_withheld_scope               object\n",
       "from_user_favourites_count              int64\n",
       "source                                 object\n",
       "location                               object\n",
       "geo_lat                               float64\n",
       "geo_lng                               float64\n",
       "text                                   object\n",
       "retweet_id                            float64\n",
       "retweet_count                           int64\n",
       "favorite_count                          int64\n",
       "to_user_id                            float64\n",
       "to_user_name                           object\n",
       "in_reply_to_status_id                 float64\n",
       "filter_level                           object\n",
       "lang                                   object\n",
       "possibly_sensitive                    float64\n",
       "quoted_status_id                      float64\n",
       "withheld_copyright                     object\n",
       "withheld_scope                         object\n",
       "negative                               object\n",
       "positive                               object\n",
       "neutral                                object\n",
       "dtype: object"
      ]
     },
     "execution_count": 949,
     "metadata": {},
     "output_type": "execute_result"
    }
   ],
   "source": [
    "sentiment.dtypes"
   ]
  },
  {
   "cell_type": "code",
   "execution_count": 950,
   "metadata": {},
   "outputs": [
    {
     "data": {
      "text/plain": [
       "retweet_id        object\n",
       "retweets_total     int64\n",
       "dtype: object"
      ]
     },
     "execution_count": 950,
     "metadata": {},
     "output_type": "execute_result"
    }
   ],
   "source": [
    "retweets.dtypes"
   ]
  },
  {
   "cell_type": "markdown",
   "metadata": {},
   "source": [
    "The 'id' column apperaed in all three datasets, datatype — object. However, we see, that we have to change the name of the column in 'retweets' — from 'retweet_id' to 'id' for the further merging. Let's do it now."
   ]
  },
  {
   "cell_type": "code",
   "execution_count": 951,
   "metadata": {},
   "outputs": [],
   "source": [
    "retweets = retweets.rename(columns={'retweet_id': 'id'})"
   ]
  },
  {
   "cell_type": "markdown",
   "metadata": {},
   "source": [
    "Let's see how it worked."
   ]
  },
  {
   "cell_type": "code",
   "execution_count": 733,
   "metadata": {},
   "outputs": [
    {
     "data": {
      "text/plain": [
       "9020"
      ]
     },
     "execution_count": 733,
     "metadata": {},
     "output_type": "execute_result"
    }
   ],
   "source": [
    "len(retweets)"
   ]
  },
  {
   "cell_type": "code",
   "execution_count": 952,
   "metadata": {},
   "outputs": [
    {
     "data": {
      "text/html": [
       "<div>\n",
       "<style scoped>\n",
       "    .dataframe tbody tr th:only-of-type {\n",
       "        vertical-align: middle;\n",
       "    }\n",
       "\n",
       "    .dataframe tbody tr th {\n",
       "        vertical-align: top;\n",
       "    }\n",
       "\n",
       "    .dataframe thead th {\n",
       "        text-align: right;\n",
       "    }\n",
       "</style>\n",
       "<table border=\"1\" class=\"dataframe\">\n",
       "  <thead>\n",
       "    <tr style=\"text-align: right;\">\n",
       "      <th></th>\n",
       "      <th>id</th>\n",
       "      <th>retweets_total</th>\n",
       "    </tr>\n",
       "  </thead>\n",
       "  <tbody>\n",
       "    <tr>\n",
       "      <td>1</td>\n",
       "      <td>1013461206240251904</td>\n",
       "      <td>1</td>\n",
       "    </tr>\n",
       "    <tr>\n",
       "      <td>2</td>\n",
       "      <td>1014215384860372992</td>\n",
       "      <td>2</td>\n",
       "    </tr>\n",
       "    <tr>\n",
       "      <td>3</td>\n",
       "      <td>1023617258181021696</td>\n",
       "      <td>1</td>\n",
       "    </tr>\n",
       "    <tr>\n",
       "      <td>4</td>\n",
       "      <td>1023628624514232320</td>\n",
       "      <td>1</td>\n",
       "    </tr>\n",
       "    <tr>\n",
       "      <td>5</td>\n",
       "      <td>1023934222044680192</td>\n",
       "      <td>1</td>\n",
       "    </tr>\n",
       "    <tr>\n",
       "      <td>...</td>\n",
       "      <td>...</td>\n",
       "      <td>...</td>\n",
       "    </tr>\n",
       "    <tr>\n",
       "      <td>9016</td>\n",
       "      <td>960486144818450432</td>\n",
       "      <td>1</td>\n",
       "    </tr>\n",
       "    <tr>\n",
       "      <td>9017</td>\n",
       "      <td>965435337425276928</td>\n",
       "      <td>2</td>\n",
       "    </tr>\n",
       "    <tr>\n",
       "      <td>9018</td>\n",
       "      <td>971733053629521920</td>\n",
       "      <td>6</td>\n",
       "    </tr>\n",
       "    <tr>\n",
       "      <td>9019</td>\n",
       "      <td>997808444605333507</td>\n",
       "      <td>1</td>\n",
       "    </tr>\n",
       "    <tr>\n",
       "      <td>9020</td>\n",
       "      <td>999127713360351233</td>\n",
       "      <td>1</td>\n",
       "    </tr>\n",
       "  </tbody>\n",
       "</table>\n",
       "<p>9020 rows × 2 columns</p>\n",
       "</div>"
      ],
      "text/plain": [
       "                       id  retweets_total\n",
       "1     1013461206240251904               1\n",
       "2     1014215384860372992               2\n",
       "3     1023617258181021696               1\n",
       "4     1023628624514232320               1\n",
       "5     1023934222044680192               1\n",
       "...                   ...             ...\n",
       "9016   960486144818450432               1\n",
       "9017   965435337425276928               2\n",
       "9018   971733053629521920               6\n",
       "9019   997808444605333507               1\n",
       "9020   999127713360351233               1\n",
       "\n",
       "[9020 rows x 2 columns]"
      ]
     },
     "execution_count": 952,
     "metadata": {},
     "output_type": "execute_result"
    }
   ],
   "source": [
    "retweets"
   ]
  },
  {
   "cell_type": "markdown",
   "metadata": {},
   "source": [
    "And just in case check how tweets and sentiment look like, since they already seem quite similar."
   ]
  },
  {
   "cell_type": "code",
   "execution_count": 953,
   "metadata": {},
   "outputs": [
    {
     "data": {
      "text/html": [
       "<div>\n",
       "<style scoped>\n",
       "    .dataframe tbody tr th:only-of-type {\n",
       "        vertical-align: middle;\n",
       "    }\n",
       "\n",
       "    .dataframe tbody tr th {\n",
       "        vertical-align: top;\n",
       "    }\n",
       "\n",
       "    .dataframe thead th {\n",
       "        text-align: right;\n",
       "    }\n",
       "</style>\n",
       "<table border=\"1\" class=\"dataframe\">\n",
       "  <thead>\n",
       "    <tr style=\"text-align: right;\">\n",
       "      <th></th>\n",
       "      <th>id</th>\n",
       "      <th>created_at</th>\n",
       "      <th>from_user_name</th>\n",
       "      <th>from_user_id</th>\n",
       "      <th>from_user_lang</th>\n",
       "      <th>from_user_tweetcount</th>\n",
       "      <th>from_user_followercount</th>\n",
       "      <th>from_user_friendcount</th>\n",
       "      <th>from_user_listed</th>\n",
       "      <th>from_user_realname</th>\n",
       "      <th>...</th>\n",
       "      <th>favorite_count</th>\n",
       "      <th>to_user_id</th>\n",
       "      <th>to_user_name</th>\n",
       "      <th>in_reply_to_status_id</th>\n",
       "      <th>filter_level</th>\n",
       "      <th>lang</th>\n",
       "      <th>possibly_sensitive</th>\n",
       "      <th>quoted_status_id</th>\n",
       "      <th>withheld_copyright</th>\n",
       "      <th>withheld_scope</th>\n",
       "    </tr>\n",
       "  </thead>\n",
       "  <tbody>\n",
       "    <tr>\n",
       "      <td>0</td>\n",
       "      <td>1238382160110931968</td>\n",
       "      <td>2020-03-13 08:31:29</td>\n",
       "      <td>SmurfigaMalin</td>\n",
       "      <td>823119222700175360</td>\n",
       "      <td>None</td>\n",
       "      <td>517</td>\n",
       "      <td>5</td>\n",
       "      <td>55</td>\n",
       "      <td>0</td>\n",
       "      <td>Malin Dahlqvist</td>\n",
       "      <td>...</td>\n",
       "      <td>0</td>\n",
       "      <td>823119222700175360.000</td>\n",
       "      <td>SmurfigaMalin</td>\n",
       "      <td>1238382158487736320.000</td>\n",
       "      <td>low</td>\n",
       "      <td>en</td>\n",
       "      <td>nan</td>\n",
       "      <td>nan</td>\n",
       "      <td>None</td>\n",
       "      <td>None</td>\n",
       "    </tr>\n",
       "    <tr>\n",
       "      <td>1</td>\n",
       "      <td>1238382164812673026</td>\n",
       "      <td>2020-03-13 08:31:30</td>\n",
       "      <td>sjrlady</td>\n",
       "      <td>954691474662281218</td>\n",
       "      <td>None</td>\n",
       "      <td>39873</td>\n",
       "      <td>2725</td>\n",
       "      <td>3638</td>\n",
       "      <td>0</td>\n",
       "      <td>Susan</td>\n",
       "      <td>...</td>\n",
       "      <td>0</td>\n",
       "      <td>nan</td>\n",
       "      <td>None</td>\n",
       "      <td>nan</td>\n",
       "      <td>low</td>\n",
       "      <td>en</td>\n",
       "      <td>nan</td>\n",
       "      <td>nan</td>\n",
       "      <td>None</td>\n",
       "      <td>None</td>\n",
       "    </tr>\n",
       "    <tr>\n",
       "      <td>2</td>\n",
       "      <td>1238382303207927809</td>\n",
       "      <td>2020-03-13 08:32:03</td>\n",
       "      <td>crysthecat</td>\n",
       "      <td>973870141</td>\n",
       "      <td>None</td>\n",
       "      <td>23625</td>\n",
       "      <td>109</td>\n",
       "      <td>397</td>\n",
       "      <td>17</td>\n",
       "      <td>Crystal 🌛🌝🌜</td>\n",
       "      <td>...</td>\n",
       "      <td>0</td>\n",
       "      <td>nan</td>\n",
       "      <td>None</td>\n",
       "      <td>nan</td>\n",
       "      <td>low</td>\n",
       "      <td>en</td>\n",
       "      <td>nan</td>\n",
       "      <td>nan</td>\n",
       "      <td>None</td>\n",
       "      <td>None</td>\n",
       "    </tr>\n",
       "    <tr>\n",
       "      <td>3</td>\n",
       "      <td>1238382315518283776</td>\n",
       "      <td>2020-03-13 08:32:06</td>\n",
       "      <td>BenSnow57</td>\n",
       "      <td>30200985</td>\n",
       "      <td>None</td>\n",
       "      <td>40547</td>\n",
       "      <td>420</td>\n",
       "      <td>834</td>\n",
       "      <td>13</td>\n",
       "      <td>Ben Snow</td>\n",
       "      <td>...</td>\n",
       "      <td>0</td>\n",
       "      <td>462104542.000</td>\n",
       "      <td>chuckwoolery</td>\n",
       "      <td>1238195247190085632.000</td>\n",
       "      <td>low</td>\n",
       "      <td>und</td>\n",
       "      <td>nan</td>\n",
       "      <td>nan</td>\n",
       "      <td>None</td>\n",
       "      <td>None</td>\n",
       "    </tr>\n",
       "    <tr>\n",
       "      <td>4</td>\n",
       "      <td>1238382340805513216</td>\n",
       "      <td>2020-03-13 08:32:12</td>\n",
       "      <td>brooksby_harman</td>\n",
       "      <td>821961207217156096</td>\n",
       "      <td>None</td>\n",
       "      <td>8121</td>\n",
       "      <td>336</td>\n",
       "      <td>1276</td>\n",
       "      <td>0</td>\n",
       "      <td>Brooksby Harman</td>\n",
       "      <td>...</td>\n",
       "      <td>0</td>\n",
       "      <td>nan</td>\n",
       "      <td>None</td>\n",
       "      <td>nan</td>\n",
       "      <td>low</td>\n",
       "      <td>en</td>\n",
       "      <td>nan</td>\n",
       "      <td>nan</td>\n",
       "      <td>None</td>\n",
       "      <td>None</td>\n",
       "    </tr>\n",
       "  </tbody>\n",
       "</table>\n",
       "<p>5 rows × 36 columns</p>\n",
       "</div>"
      ],
      "text/plain": [
       "                    id          created_at   from_user_name  \\\n",
       "0  1238382160110931968 2020-03-13 08:31:29    SmurfigaMalin   \n",
       "1  1238382164812673026 2020-03-13 08:31:30          sjrlady   \n",
       "2  1238382303207927809 2020-03-13 08:32:03       crysthecat   \n",
       "3  1238382315518283776 2020-03-13 08:32:06        BenSnow57   \n",
       "4  1238382340805513216 2020-03-13 08:32:12  brooksby_harman   \n",
       "\n",
       "         from_user_id from_user_lang  from_user_tweetcount  \\\n",
       "0  823119222700175360           None                   517   \n",
       "1  954691474662281218           None                 39873   \n",
       "2           973870141           None                 23625   \n",
       "3            30200985           None                 40547   \n",
       "4  821961207217156096           None                  8121   \n",
       "\n",
       "   from_user_followercount  from_user_friendcount  from_user_listed  \\\n",
       "0                        5                     55                 0   \n",
       "1                     2725                   3638                 0   \n",
       "2                      109                    397                17   \n",
       "3                      420                    834                13   \n",
       "4                      336                   1276                 0   \n",
       "\n",
       "  from_user_realname  ... favorite_count             to_user_id  \\\n",
       "0    Malin Dahlqvist  ...              0 823119222700175360.000   \n",
       "1              Susan  ...              0                    nan   \n",
       "2        Crystal 🌛🌝🌜  ...              0                    nan   \n",
       "3           Ben Snow  ...              0          462104542.000   \n",
       "4    Brooksby Harman  ...              0                    nan   \n",
       "\n",
       "    to_user_name   in_reply_to_status_id  filter_level lang  \\\n",
       "0  SmurfigaMalin 1238382158487736320.000           low   en   \n",
       "1           None                     nan           low   en   \n",
       "2           None                     nan           low   en   \n",
       "3   chuckwoolery 1238195247190085632.000           low  und   \n",
       "4           None                     nan           low   en   \n",
       "\n",
       "  possibly_sensitive quoted_status_id  withheld_copyright withheld_scope  \n",
       "0                nan              nan                None           None  \n",
       "1                nan              nan                None           None  \n",
       "2                nan              nan                None           None  \n",
       "3                nan              nan                None           None  \n",
       "4                nan              nan                None           None  \n",
       "\n",
       "[5 rows x 36 columns]"
      ]
     },
     "execution_count": 953,
     "metadata": {},
     "output_type": "execute_result"
    }
   ],
   "source": [
    "tweets.head()"
   ]
  },
  {
   "cell_type": "code",
   "execution_count": 198,
   "metadata": {},
   "outputs": [
    {
     "data": {
      "text/html": [
       "<div>\n",
       "<style scoped>\n",
       "    .dataframe tbody tr th:only-of-type {\n",
       "        vertical-align: middle;\n",
       "    }\n",
       "\n",
       "    .dataframe tbody tr th {\n",
       "        vertical-align: top;\n",
       "    }\n",
       "\n",
       "    .dataframe thead th {\n",
       "        text-align: right;\n",
       "    }\n",
       "</style>\n",
       "<table border=\"1\" class=\"dataframe\">\n",
       "  <thead>\n",
       "    <tr style=\"text-align: right;\">\n",
       "      <th></th>\n",
       "      <th>id</th>\n",
       "      <th>created_at</th>\n",
       "      <th>from_user_name</th>\n",
       "      <th>from_user_id</th>\n",
       "      <th>from_user_lang</th>\n",
       "      <th>from_user_tweetcount</th>\n",
       "      <th>from_user_followercount</th>\n",
       "      <th>from_user_friendcount</th>\n",
       "      <th>from_user_listed</th>\n",
       "      <th>from_user_realname</th>\n",
       "      <th>...</th>\n",
       "      <th>in_reply_to_status_id</th>\n",
       "      <th>filter_level</th>\n",
       "      <th>lang</th>\n",
       "      <th>possibly_sensitive</th>\n",
       "      <th>quoted_status_id</th>\n",
       "      <th>withheld_copyright</th>\n",
       "      <th>withheld_scope</th>\n",
       "      <th>negative</th>\n",
       "      <th>positive</th>\n",
       "      <th>neutral</th>\n",
       "    </tr>\n",
       "  </thead>\n",
       "  <tbody>\n",
       "    <tr>\n",
       "      <td>0</td>\n",
       "      <td>1238382160110931968</td>\n",
       "      <td>2020-03-13 08:31:29</td>\n",
       "      <td>SmurfigaMalin</td>\n",
       "      <td>823119222700175360</td>\n",
       "      <td>None</td>\n",
       "      <td>517</td>\n",
       "      <td>5</td>\n",
       "      <td>55</td>\n",
       "      <td>0</td>\n",
       "      <td>Malin Dahlqvist</td>\n",
       "      <td>...</td>\n",
       "      <td>1238382158487736320.000</td>\n",
       "      <td>low</td>\n",
       "      <td>en</td>\n",
       "      <td>nan</td>\n",
       "      <td>nan</td>\n",
       "      <td>None</td>\n",
       "      <td>None</td>\n",
       "      <td>-4</td>\n",
       "      <td>1</td>\n",
       "      <td>-1</td>\n",
       "    </tr>\n",
       "    <tr>\n",
       "      <td>1</td>\n",
       "      <td>1238382164812673026</td>\n",
       "      <td>2020-03-13 08:31:30</td>\n",
       "      <td>sjrlady</td>\n",
       "      <td>954691474662281218</td>\n",
       "      <td>None</td>\n",
       "      <td>39873</td>\n",
       "      <td>2725</td>\n",
       "      <td>3638</td>\n",
       "      <td>0</td>\n",
       "      <td>Susan</td>\n",
       "      <td>...</td>\n",
       "      <td>nan</td>\n",
       "      <td>low</td>\n",
       "      <td>en</td>\n",
       "      <td>nan</td>\n",
       "      <td>nan</td>\n",
       "      <td>None</td>\n",
       "      <td>None</td>\n",
       "      <td>-4</td>\n",
       "      <td>2</td>\n",
       "      <td>-1</td>\n",
       "    </tr>\n",
       "    <tr>\n",
       "      <td>2</td>\n",
       "      <td>1238382303207927809</td>\n",
       "      <td>2020-03-13 08:32:03</td>\n",
       "      <td>crysthecat</td>\n",
       "      <td>973870141</td>\n",
       "      <td>None</td>\n",
       "      <td>23625</td>\n",
       "      <td>109</td>\n",
       "      <td>397</td>\n",
       "      <td>17</td>\n",
       "      <td>Crystal 🌛🌝🌜</td>\n",
       "      <td>...</td>\n",
       "      <td>nan</td>\n",
       "      <td>low</td>\n",
       "      <td>en</td>\n",
       "      <td>nan</td>\n",
       "      <td>nan</td>\n",
       "      <td>None</td>\n",
       "      <td>None</td>\n",
       "      <td>-1</td>\n",
       "      <td>1</td>\n",
       "      <td>0</td>\n",
       "    </tr>\n",
       "    <tr>\n",
       "      <td>3</td>\n",
       "      <td>1238382315518283776</td>\n",
       "      <td>2020-03-13 08:32:06</td>\n",
       "      <td>BenSnow57</td>\n",
       "      <td>30200985</td>\n",
       "      <td>None</td>\n",
       "      <td>40547</td>\n",
       "      <td>420</td>\n",
       "      <td>834</td>\n",
       "      <td>13</td>\n",
       "      <td>Ben Snow</td>\n",
       "      <td>...</td>\n",
       "      <td>1238195247190085632.000</td>\n",
       "      <td>low</td>\n",
       "      <td>und</td>\n",
       "      <td>nan</td>\n",
       "      <td>nan</td>\n",
       "      <td>None</td>\n",
       "      <td>None</td>\n",
       "      <td>-1</td>\n",
       "      <td>1</td>\n",
       "      <td>0</td>\n",
       "    </tr>\n",
       "    <tr>\n",
       "      <td>4</td>\n",
       "      <td>1238382340805513216</td>\n",
       "      <td>2020-03-13 08:32:12</td>\n",
       "      <td>brooksby_harman</td>\n",
       "      <td>821961207217156096</td>\n",
       "      <td>None</td>\n",
       "      <td>8121</td>\n",
       "      <td>336</td>\n",
       "      <td>1276</td>\n",
       "      <td>0</td>\n",
       "      <td>Brooksby Harman</td>\n",
       "      <td>...</td>\n",
       "      <td>nan</td>\n",
       "      <td>low</td>\n",
       "      <td>en</td>\n",
       "      <td>nan</td>\n",
       "      <td>nan</td>\n",
       "      <td>None</td>\n",
       "      <td>None</td>\n",
       "      <td>-2</td>\n",
       "      <td>1</td>\n",
       "      <td>-1</td>\n",
       "    </tr>\n",
       "  </tbody>\n",
       "</table>\n",
       "<p>5 rows × 39 columns</p>\n",
       "</div>"
      ],
      "text/plain": [
       "                    id          created_at   from_user_name  \\\n",
       "0  1238382160110931968 2020-03-13 08:31:29    SmurfigaMalin   \n",
       "1  1238382164812673026 2020-03-13 08:31:30          sjrlady   \n",
       "2  1238382303207927809 2020-03-13 08:32:03       crysthecat   \n",
       "3  1238382315518283776 2020-03-13 08:32:06        BenSnow57   \n",
       "4  1238382340805513216 2020-03-13 08:32:12  brooksby_harman   \n",
       "\n",
       "         from_user_id from_user_lang  from_user_tweetcount  \\\n",
       "0  823119222700175360           None                   517   \n",
       "1  954691474662281218           None                 39873   \n",
       "2           973870141           None                 23625   \n",
       "3            30200985           None                 40547   \n",
       "4  821961207217156096           None                  8121   \n",
       "\n",
       "   from_user_followercount  from_user_friendcount  from_user_listed  \\\n",
       "0                        5                     55                 0   \n",
       "1                     2725                   3638                 0   \n",
       "2                      109                    397                17   \n",
       "3                      420                    834                13   \n",
       "4                      336                   1276                 0   \n",
       "\n",
       "  from_user_realname  ...   in_reply_to_status_id filter_level lang  \\\n",
       "0    Malin Dahlqvist  ... 1238382158487736320.000          low   en   \n",
       "1              Susan  ...                     nan          low   en   \n",
       "2        Crystal 🌛🌝🌜  ...                     nan          low   en   \n",
       "3           Ben Snow  ... 1238195247190085632.000          low  und   \n",
       "4    Brooksby Harman  ...                     nan          low   en   \n",
       "\n",
       "  possibly_sensitive  quoted_status_id withheld_copyright withheld_scope  \\\n",
       "0                nan               nan               None           None   \n",
       "1                nan               nan               None           None   \n",
       "2                nan               nan               None           None   \n",
       "3                nan               nan               None           None   \n",
       "4                nan               nan               None           None   \n",
       "\n",
       "  negative  positive neutral  \n",
       "0       -4         1      -1  \n",
       "1       -4         2      -1  \n",
       "2       -1         1       0  \n",
       "3       -1         1       0  \n",
       "4       -2         1      -1  \n",
       "\n",
       "[5 rows x 39 columns]"
      ]
     },
     "execution_count": 198,
     "metadata": {},
     "output_type": "execute_result"
    }
   ],
   "source": [
    "sentiment.head()"
   ]
  },
  {
   "cell_type": "markdown",
   "metadata": {},
   "source": [
    "From what we have seen so far we can infer that 'sentiment' file has the similar lenght and columns as the 'tweeter' file plus additional three columns with sentiments of the tweets, the most important among which are also 'id' and 'text', therefore we will merge only 'sentiment' file with the 'retweets' file a bit later.  \n",
    "\n",
    "However, before doing so we will drop the column 'retweet_id' and 'retweet_count' in the 'sentiment' file as this information could be confusing and unnecessary in the future analysis of the retweets from the 'retweets' file."
   ]
  },
  {
   "cell_type": "code",
   "execution_count": 954,
   "metadata": {},
   "outputs": [],
   "source": [
    "sentiment=sentiment.drop(columns=['retweet_id'])"
   ]
  },
  {
   "cell_type": "code",
   "execution_count": 955,
   "metadata": {},
   "outputs": [],
   "source": [
    "sentiment=sentiment.drop(columns=['retweet_count'])"
   ]
  },
  {
   "cell_type": "markdown",
   "metadata": {},
   "source": [
    "Let's check if it worked and the file still has the same lenght."
   ]
  },
  {
   "cell_type": "code",
   "execution_count": 956,
   "metadata": {},
   "outputs": [
    {
     "data": {
      "text/plain": [
       "Index(['id', 'created_at', 'from_user_name', 'from_user_id', 'from_user_lang',\n",
       "       'from_user_tweetcount', 'from_user_followercount',\n",
       "       'from_user_friendcount', 'from_user_listed', 'from_user_realname',\n",
       "       'from_user_utcoffset', 'from_user_timezone', 'from_user_description',\n",
       "       'from_user_url', 'from_user_verified', 'from_user_profile_image_url',\n",
       "       'from_user_created_at', 'from_user_withheld_scope',\n",
       "       'from_user_favourites_count', 'source', 'location', 'geo_lat',\n",
       "       'geo_lng', 'text', 'favorite_count', 'to_user_id', 'to_user_name',\n",
       "       'in_reply_to_status_id', 'filter_level', 'lang', 'possibly_sensitive',\n",
       "       'quoted_status_id', 'withheld_copyright', 'withheld_scope', 'negative',\n",
       "       'positive', 'neutral'],\n",
       "      dtype='object')"
      ]
     },
     "execution_count": 956,
     "metadata": {},
     "output_type": "execute_result"
    }
   ],
   "source": [
    "sentiment.columns"
   ]
  },
  {
   "cell_type": "code",
   "execution_count": 894,
   "metadata": {},
   "outputs": [
    {
     "data": {
      "text/plain": [
       "89503"
      ]
     },
     "execution_count": 894,
     "metadata": {},
     "output_type": "execute_result"
    }
   ],
   "source": [
    "len(sentiment)"
   ]
  },
  {
   "cell_type": "markdown",
   "metadata": {},
   "source": [
    "Now it's time to merge the two datasets. We are merging sentiment and retweets files on the left since we are most and foremost interested in the retweets that were retweeted."
   ]
  },
  {
   "cell_type": "code",
   "execution_count": 958,
   "metadata": {},
   "outputs": [],
   "source": [
    "merged=sentiment.merge(retweets,on='id', how='left')"
   ]
  },
  {
   "cell_type": "code",
   "execution_count": 959,
   "metadata": {},
   "outputs": [
    {
     "data": {
      "text/html": [
       "<div>\n",
       "<style scoped>\n",
       "    .dataframe tbody tr th:only-of-type {\n",
       "        vertical-align: middle;\n",
       "    }\n",
       "\n",
       "    .dataframe tbody tr th {\n",
       "        vertical-align: top;\n",
       "    }\n",
       "\n",
       "    .dataframe thead th {\n",
       "        text-align: right;\n",
       "    }\n",
       "</style>\n",
       "<table border=\"1\" class=\"dataframe\">\n",
       "  <thead>\n",
       "    <tr style=\"text-align: right;\">\n",
       "      <th></th>\n",
       "      <th>id</th>\n",
       "      <th>created_at</th>\n",
       "      <th>from_user_name</th>\n",
       "      <th>from_user_id</th>\n",
       "      <th>from_user_lang</th>\n",
       "      <th>from_user_tweetcount</th>\n",
       "      <th>from_user_followercount</th>\n",
       "      <th>from_user_friendcount</th>\n",
       "      <th>from_user_listed</th>\n",
       "      <th>from_user_realname</th>\n",
       "      <th>...</th>\n",
       "      <th>filter_level</th>\n",
       "      <th>lang</th>\n",
       "      <th>possibly_sensitive</th>\n",
       "      <th>quoted_status_id</th>\n",
       "      <th>withheld_copyright</th>\n",
       "      <th>withheld_scope</th>\n",
       "      <th>negative</th>\n",
       "      <th>positive</th>\n",
       "      <th>neutral</th>\n",
       "      <th>retweets_total</th>\n",
       "    </tr>\n",
       "  </thead>\n",
       "  <tbody>\n",
       "    <tr>\n",
       "      <td>0</td>\n",
       "      <td>1238382160110931968</td>\n",
       "      <td>2020-03-13 08:31:29</td>\n",
       "      <td>SmurfigaMalin</td>\n",
       "      <td>823119222700175360</td>\n",
       "      <td>None</td>\n",
       "      <td>517</td>\n",
       "      <td>5</td>\n",
       "      <td>55</td>\n",
       "      <td>0</td>\n",
       "      <td>Malin Dahlqvist</td>\n",
       "      <td>...</td>\n",
       "      <td>low</td>\n",
       "      <td>en</td>\n",
       "      <td>nan</td>\n",
       "      <td>nan</td>\n",
       "      <td>None</td>\n",
       "      <td>None</td>\n",
       "      <td>-4</td>\n",
       "      <td>1</td>\n",
       "      <td>-1</td>\n",
       "      <td>nan</td>\n",
       "    </tr>\n",
       "    <tr>\n",
       "      <td>1</td>\n",
       "      <td>1238382164812673026</td>\n",
       "      <td>2020-03-13 08:31:30</td>\n",
       "      <td>sjrlady</td>\n",
       "      <td>954691474662281218</td>\n",
       "      <td>None</td>\n",
       "      <td>39873</td>\n",
       "      <td>2725</td>\n",
       "      <td>3638</td>\n",
       "      <td>0</td>\n",
       "      <td>Susan</td>\n",
       "      <td>...</td>\n",
       "      <td>low</td>\n",
       "      <td>en</td>\n",
       "      <td>nan</td>\n",
       "      <td>nan</td>\n",
       "      <td>None</td>\n",
       "      <td>None</td>\n",
       "      <td>-4</td>\n",
       "      <td>2</td>\n",
       "      <td>-1</td>\n",
       "      <td>nan</td>\n",
       "    </tr>\n",
       "    <tr>\n",
       "      <td>2</td>\n",
       "      <td>1238382303207927809</td>\n",
       "      <td>2020-03-13 08:32:03</td>\n",
       "      <td>crysthecat</td>\n",
       "      <td>973870141</td>\n",
       "      <td>None</td>\n",
       "      <td>23625</td>\n",
       "      <td>109</td>\n",
       "      <td>397</td>\n",
       "      <td>17</td>\n",
       "      <td>Crystal 🌛🌝🌜</td>\n",
       "      <td>...</td>\n",
       "      <td>low</td>\n",
       "      <td>en</td>\n",
       "      <td>nan</td>\n",
       "      <td>nan</td>\n",
       "      <td>None</td>\n",
       "      <td>None</td>\n",
       "      <td>-1</td>\n",
       "      <td>1</td>\n",
       "      <td>0</td>\n",
       "      <td>nan</td>\n",
       "    </tr>\n",
       "    <tr>\n",
       "      <td>3</td>\n",
       "      <td>1238382315518283776</td>\n",
       "      <td>2020-03-13 08:32:06</td>\n",
       "      <td>BenSnow57</td>\n",
       "      <td>30200985</td>\n",
       "      <td>None</td>\n",
       "      <td>40547</td>\n",
       "      <td>420</td>\n",
       "      <td>834</td>\n",
       "      <td>13</td>\n",
       "      <td>Ben Snow</td>\n",
       "      <td>...</td>\n",
       "      <td>low</td>\n",
       "      <td>und</td>\n",
       "      <td>nan</td>\n",
       "      <td>nan</td>\n",
       "      <td>None</td>\n",
       "      <td>None</td>\n",
       "      <td>-1</td>\n",
       "      <td>1</td>\n",
       "      <td>0</td>\n",
       "      <td>nan</td>\n",
       "    </tr>\n",
       "    <tr>\n",
       "      <td>4</td>\n",
       "      <td>1238382340805513216</td>\n",
       "      <td>2020-03-13 08:32:12</td>\n",
       "      <td>brooksby_harman</td>\n",
       "      <td>821961207217156096</td>\n",
       "      <td>None</td>\n",
       "      <td>8121</td>\n",
       "      <td>336</td>\n",
       "      <td>1276</td>\n",
       "      <td>0</td>\n",
       "      <td>Brooksby Harman</td>\n",
       "      <td>...</td>\n",
       "      <td>low</td>\n",
       "      <td>en</td>\n",
       "      <td>nan</td>\n",
       "      <td>nan</td>\n",
       "      <td>None</td>\n",
       "      <td>None</td>\n",
       "      <td>-2</td>\n",
       "      <td>1</td>\n",
       "      <td>-1</td>\n",
       "      <td>nan</td>\n",
       "    </tr>\n",
       "    <tr>\n",
       "      <td>...</td>\n",
       "      <td>...</td>\n",
       "      <td>...</td>\n",
       "      <td>...</td>\n",
       "      <td>...</td>\n",
       "      <td>...</td>\n",
       "      <td>...</td>\n",
       "      <td>...</td>\n",
       "      <td>...</td>\n",
       "      <td>...</td>\n",
       "      <td>...</td>\n",
       "      <td>...</td>\n",
       "      <td>...</td>\n",
       "      <td>...</td>\n",
       "      <td>...</td>\n",
       "      <td>...</td>\n",
       "      <td>...</td>\n",
       "      <td>...</td>\n",
       "      <td>...</td>\n",
       "      <td>...</td>\n",
       "      <td>...</td>\n",
       "      <td>...</td>\n",
       "    </tr>\n",
       "    <tr>\n",
       "      <td>89498</td>\n",
       "      <td>1239142747317186560</td>\n",
       "      <td>2020-03-15 10:53:47</td>\n",
       "      <td>DavidZi81001864</td>\n",
       "      <td>1145325001878450176</td>\n",
       "      <td>None</td>\n",
       "      <td>14834</td>\n",
       "      <td>1823</td>\n",
       "      <td>2384</td>\n",
       "      <td>0</td>\n",
       "      <td>David A Ziegler</td>\n",
       "      <td>...</td>\n",
       "      <td>low</td>\n",
       "      <td>en</td>\n",
       "      <td>nan</td>\n",
       "      <td>nan</td>\n",
       "      <td>None</td>\n",
       "      <td>None</td>\n",
       "      <td>-3</td>\n",
       "      <td>2</td>\n",
       "      <td>-1</td>\n",
       "      <td>nan</td>\n",
       "    </tr>\n",
       "    <tr>\n",
       "      <td>89499</td>\n",
       "      <td>1239142768599019521</td>\n",
       "      <td>2020-03-15 10:53:52</td>\n",
       "      <td>MFavregas</td>\n",
       "      <td>1215424103982694401</td>\n",
       "      <td>None</td>\n",
       "      <td>4171</td>\n",
       "      <td>1507</td>\n",
       "      <td>1801</td>\n",
       "      <td>0</td>\n",
       "      <td>marilyn Favregas</td>\n",
       "      <td>...</td>\n",
       "      <td>low</td>\n",
       "      <td>en</td>\n",
       "      <td>nan</td>\n",
       "      <td>nan</td>\n",
       "      <td>None</td>\n",
       "      <td>None</td>\n",
       "      <td>-4</td>\n",
       "      <td>2</td>\n",
       "      <td>-1</td>\n",
       "      <td>nan</td>\n",
       "    </tr>\n",
       "    <tr>\n",
       "      <td>89500</td>\n",
       "      <td>1239142776664731648</td>\n",
       "      <td>2020-03-15 10:53:54</td>\n",
       "      <td>sharonramsey2</td>\n",
       "      <td>482915852</td>\n",
       "      <td>None</td>\n",
       "      <td>178</td>\n",
       "      <td>5</td>\n",
       "      <td>6</td>\n",
       "      <td>0</td>\n",
       "      <td>sharon ramsey</td>\n",
       "      <td>...</td>\n",
       "      <td>low</td>\n",
       "      <td>en</td>\n",
       "      <td>nan</td>\n",
       "      <td>nan</td>\n",
       "      <td>None</td>\n",
       "      <td>None</td>\n",
       "      <td>-5</td>\n",
       "      <td>2</td>\n",
       "      <td>-1</td>\n",
       "      <td>nan</td>\n",
       "    </tr>\n",
       "    <tr>\n",
       "      <td>89501</td>\n",
       "      <td>1239142827000393728</td>\n",
       "      <td>2020-03-15 10:54:06</td>\n",
       "      <td>VivianM61425009</td>\n",
       "      <td>1039555122316042241</td>\n",
       "      <td>None</td>\n",
       "      <td>39405</td>\n",
       "      <td>3323</td>\n",
       "      <td>4264</td>\n",
       "      <td>6</td>\n",
       "      <td>Viv Martinez🌟🌟🌟</td>\n",
       "      <td>...</td>\n",
       "      <td>low</td>\n",
       "      <td>en</td>\n",
       "      <td>nan</td>\n",
       "      <td>nan</td>\n",
       "      <td>None</td>\n",
       "      <td>None</td>\n",
       "      <td>-4</td>\n",
       "      <td>2</td>\n",
       "      <td>-1</td>\n",
       "      <td>nan</td>\n",
       "    </tr>\n",
       "    <tr>\n",
       "      <td>89502</td>\n",
       "      <td>1239142835082887172</td>\n",
       "      <td>2020-03-15 10:54:08</td>\n",
       "      <td>TimMoses9</td>\n",
       "      <td>765627253745221636</td>\n",
       "      <td>None</td>\n",
       "      <td>20525</td>\n",
       "      <td>3479</td>\n",
       "      <td>4110</td>\n",
       "      <td>1</td>\n",
       "      <td>Bamidele</td>\n",
       "      <td>...</td>\n",
       "      <td>low</td>\n",
       "      <td>en</td>\n",
       "      <td>nan</td>\n",
       "      <td>1238890240108044288.000</td>\n",
       "      <td>None</td>\n",
       "      <td>None</td>\n",
       "      <td>-2</td>\n",
       "      <td>2</td>\n",
       "      <td>-1</td>\n",
       "      <td>nan</td>\n",
       "    </tr>\n",
       "  </tbody>\n",
       "</table>\n",
       "<p>89503 rows × 38 columns</p>\n",
       "</div>"
      ],
      "text/plain": [
       "                        id          created_at   from_user_name  \\\n",
       "0      1238382160110931968 2020-03-13 08:31:29    SmurfigaMalin   \n",
       "1      1238382164812673026 2020-03-13 08:31:30          sjrlady   \n",
       "2      1238382303207927809 2020-03-13 08:32:03       crysthecat   \n",
       "3      1238382315518283776 2020-03-13 08:32:06        BenSnow57   \n",
       "4      1238382340805513216 2020-03-13 08:32:12  brooksby_harman   \n",
       "...                    ...                 ...              ...   \n",
       "89498  1239142747317186560 2020-03-15 10:53:47  DavidZi81001864   \n",
       "89499  1239142768599019521 2020-03-15 10:53:52        MFavregas   \n",
       "89500  1239142776664731648 2020-03-15 10:53:54    sharonramsey2   \n",
       "89501  1239142827000393728 2020-03-15 10:54:06  VivianM61425009   \n",
       "89502  1239142835082887172 2020-03-15 10:54:08        TimMoses9   \n",
       "\n",
       "              from_user_id from_user_lang  from_user_tweetcount  \\\n",
       "0       823119222700175360           None                   517   \n",
       "1       954691474662281218           None                 39873   \n",
       "2                973870141           None                 23625   \n",
       "3                 30200985           None                 40547   \n",
       "4       821961207217156096           None                  8121   \n",
       "...                    ...            ...                   ...   \n",
       "89498  1145325001878450176           None                 14834   \n",
       "89499  1215424103982694401           None                  4171   \n",
       "89500            482915852           None                   178   \n",
       "89501  1039555122316042241           None                 39405   \n",
       "89502   765627253745221636           None                 20525   \n",
       "\n",
       "       from_user_followercount  from_user_friendcount  from_user_listed  \\\n",
       "0                            5                     55                 0   \n",
       "1                         2725                   3638                 0   \n",
       "2                          109                    397                17   \n",
       "3                          420                    834                13   \n",
       "4                          336                   1276                 0   \n",
       "...                        ...                    ...               ...   \n",
       "89498                     1823                   2384                 0   \n",
       "89499                     1507                   1801                 0   \n",
       "89500                        5                      6                 0   \n",
       "89501                     3323                   4264                 6   \n",
       "89502                     3479                   4110                 1   \n",
       "\n",
       "      from_user_realname  ... filter_level lang possibly_sensitive  \\\n",
       "0        Malin Dahlqvist  ...          low   en                nan   \n",
       "1                  Susan  ...          low   en                nan   \n",
       "2            Crystal 🌛🌝🌜  ...          low   en                nan   \n",
       "3               Ben Snow  ...          low  und                nan   \n",
       "4        Brooksby Harman  ...          low   en                nan   \n",
       "...                  ...  ...          ...  ...                ...   \n",
       "89498    David A Ziegler  ...          low   en                nan   \n",
       "89499   marilyn Favregas  ...          low   en                nan   \n",
       "89500      sharon ramsey  ...          low   en                nan   \n",
       "89501    Viv Martinez🌟🌟🌟  ...          low   en                nan   \n",
       "89502           Bamidele  ...          low   en                nan   \n",
       "\n",
       "             quoted_status_id  withheld_copyright withheld_scope negative  \\\n",
       "0                         nan                None           None       -4   \n",
       "1                         nan                None           None       -4   \n",
       "2                         nan                None           None       -1   \n",
       "3                         nan                None           None       -1   \n",
       "4                         nan                None           None       -2   \n",
       "...                       ...                 ...            ...      ...   \n",
       "89498                     nan                None           None       -3   \n",
       "89499                     nan                None           None       -4   \n",
       "89500                     nan                None           None       -5   \n",
       "89501                     nan                None           None       -4   \n",
       "89502 1238890240108044288.000                None           None       -2   \n",
       "\n",
       "      positive  neutral retweets_total  \n",
       "0            1       -1            nan  \n",
       "1            2       -1            nan  \n",
       "2            1        0            nan  \n",
       "3            1        0            nan  \n",
       "4            1       -1            nan  \n",
       "...        ...      ...            ...  \n",
       "89498        2       -1            nan  \n",
       "89499        2       -1            nan  \n",
       "89500        2       -1            nan  \n",
       "89501        2       -1            nan  \n",
       "89502        2       -1            nan  \n",
       "\n",
       "[89503 rows x 38 columns]"
      ]
     },
     "execution_count": 959,
     "metadata": {},
     "output_type": "execute_result"
    }
   ],
   "source": [
    "merged"
   ]
  },
  {
   "cell_type": "markdown",
   "metadata": {},
   "source": [
    "At the first glance it seems that the merge worked, but let's explore the data further in the next section."
   ]
  },
  {
   "cell_type": "code",
   "execution_count": 960,
   "metadata": {},
   "outputs": [
    {
     "data": {
      "text/plain": [
       "Index(['id', 'created_at', 'from_user_name', 'from_user_id', 'from_user_lang',\n",
       "       'from_user_tweetcount', 'from_user_followercount',\n",
       "       'from_user_friendcount', 'from_user_listed', 'from_user_realname',\n",
       "       'from_user_utcoffset', 'from_user_timezone', 'from_user_description',\n",
       "       'from_user_url', 'from_user_verified', 'from_user_profile_image_url',\n",
       "       'from_user_created_at', 'from_user_withheld_scope',\n",
       "       'from_user_favourites_count', 'source', 'location', 'geo_lat',\n",
       "       'geo_lng', 'text', 'favorite_count', 'to_user_id', 'to_user_name',\n",
       "       'in_reply_to_status_id', 'filter_level', 'lang', 'possibly_sensitive',\n",
       "       'quoted_status_id', 'withheld_copyright', 'withheld_scope', 'negative',\n",
       "       'positive', 'neutral', 'retweets_total'],\n",
       "      dtype='object')"
      ]
     },
     "execution_count": 960,
     "metadata": {},
     "output_type": "execute_result"
    }
   ],
   "source": [
    "merged.columns"
   ]
  },
  {
   "cell_type": "markdown",
   "metadata": {},
   "source": [
    "# Data Cleaning"
   ]
  },
  {
   "cell_type": "markdown",
   "metadata": {},
   "source": [
    "We need to inspect the variables that will be used in the analysis for missing cases and data corruption. We also need to create  an 'overall sentiment' column discussed above."
   ]
  },
  {
   "cell_type": "markdown",
   "metadata": {},
   "source": [
    "Let's first clean the 'lang' column that appeared in the previous section to have other than English languages. We are going to use only English language for our analysis that fits the setup of our business challenge."
   ]
  },
  {
   "cell_type": "code",
   "execution_count": 961,
   "metadata": {},
   "outputs": [],
   "source": [
    "merged = merged[sentiment['lang']=='en']"
   ]
  },
  {
   "cell_type": "code",
   "execution_count": 798,
   "metadata": {},
   "outputs": [
    {
     "data": {
      "text/plain": [
       "89103"
      ]
     },
     "execution_count": 798,
     "metadata": {},
     "output_type": "execute_result"
    }
   ],
   "source": [
    "len(merged)"
   ]
  },
  {
   "cell_type": "markdown",
   "metadata": {},
   "source": [
    "It obviously made our dataset smaller."
   ]
  },
  {
   "cell_type": "markdown",
   "metadata": {},
   "source": [
    "A good idea would be also to select only those columns that we are going to work with adn create a new data frame, so that would be very clear for us, without any excess information. Let's take a look at the columns we have now to choose those that we would like to work with. We eould also like to underline that 'from_user_friendcount' seems interesting and could be used in the future for the modelling."
   ]
  },
  {
   "cell_type": "code",
   "execution_count": 962,
   "metadata": {},
   "outputs": [
    {
     "data": {
      "text/plain": [
       "Index(['id', 'created_at', 'from_user_name', 'from_user_id', 'from_user_lang',\n",
       "       'from_user_tweetcount', 'from_user_followercount',\n",
       "       'from_user_friendcount', 'from_user_listed', 'from_user_realname',\n",
       "       'from_user_utcoffset', 'from_user_timezone', 'from_user_description',\n",
       "       'from_user_url', 'from_user_verified', 'from_user_profile_image_url',\n",
       "       'from_user_created_at', 'from_user_withheld_scope',\n",
       "       'from_user_favourites_count', 'source', 'location', 'geo_lat',\n",
       "       'geo_lng', 'text', 'favorite_count', 'to_user_id', 'to_user_name',\n",
       "       'in_reply_to_status_id', 'filter_level', 'lang', 'possibly_sensitive',\n",
       "       'quoted_status_id', 'withheld_copyright', 'withheld_scope', 'negative',\n",
       "       'positive', 'neutral', 'retweets_total'],\n",
       "      dtype='object')"
      ]
     },
     "execution_count": 962,
     "metadata": {},
     "output_type": "execute_result"
    }
   ],
   "source": [
    "merged.columns"
   ]
  },
  {
   "cell_type": "code",
   "execution_count": 964,
   "metadata": {},
   "outputs": [],
   "source": [
    "merged=pd.DataFrame(merged[['id', 'text','from_user_friendcount', 'negative', 'positive', 'neutral','retweets_total']])"
   ]
  },
  {
   "cell_type": "markdown",
   "metadata": {},
   "source": [
    "Let's check ir the new file has  the same lenght."
   ]
  },
  {
   "cell_type": "code",
   "execution_count": 965,
   "metadata": {},
   "outputs": [
    {
     "data": {
      "text/plain": [
       "89103"
      ]
     },
     "execution_count": 965,
     "metadata": {},
     "output_type": "execute_result"
    }
   ],
   "source": [
    "len(merged)"
   ]
  },
  {
   "cell_type": "markdown",
   "metadata": {},
   "source": [
    "Good."
   ]
  },
  {
   "cell_type": "markdown",
   "metadata": {},
   "source": [
    "Checking the missing values in the important for us variables ('id', 'negative','neutral', 'positive', 'retweets_total')."
   ]
  },
  {
   "cell_type": "code",
   "execution_count": 801,
   "metadata": {},
   "outputs": [
    {
     "data": {
      "text/plain": [
       "id                    0\n",
       "text                  0\n",
       "negative              0\n",
       "positive              0\n",
       "neutral               0\n",
       "retweets_total    88363\n",
       "dtype: int64"
      ]
     },
     "execution_count": 801,
     "metadata": {},
     "output_type": "execute_result"
    }
   ],
   "source": [
    "merged.isna().sum()"
   ]
  },
  {
   "cell_type": "markdown",
   "metadata": {},
   "source": [
    "After merging the files retweets got a lot of missing values, that initially were not there (see the code below)."
   ]
  },
  {
   "cell_type": "code",
   "execution_count": 901,
   "metadata": {},
   "outputs": [
    {
     "data": {
      "text/plain": [
       "id                0\n",
       "retweets_total    0\n",
       "dtype: int64"
      ]
     },
     "execution_count": 901,
     "metadata": {},
     "output_type": "execute_result"
    }
   ],
   "source": [
    "retweets.isna().sum()"
   ]
  },
  {
   "cell_type": "markdown",
   "metadata": {},
   "source": [
    "Let's see how many tweets out of 9020 initial left."
   ]
  },
  {
   "cell_type": "code",
   "execution_count": 966,
   "metadata": {},
   "outputs": [
    {
     "data": {
      "text/plain": [
       "count    740.000\n",
       "mean       7.612\n",
       "std       47.113\n",
       "min        1.000\n",
       "25%        1.000\n",
       "50%        1.000\n",
       "75%        3.000\n",
       "max     1120.000\n",
       "Name: retweets_total, dtype: float64"
      ]
     },
     "execution_count": 966,
     "metadata": {},
     "output_type": "execute_result"
    }
   ],
   "source": [
    "merged['retweets_total'].describe().transpose()"
   ]
  },
  {
   "cell_type": "markdown",
   "metadata": {},
   "source": [
    "Let's think about the reason and check how many common ids both files (sentiment and retweets) have."
   ]
  },
  {
   "cell_type": "code",
   "execution_count": 967,
   "metadata": {},
   "outputs": [
    {
     "data": {
      "text/plain": [
       "747"
      ]
     },
     "execution_count": 967,
     "metadata": {},
     "output_type": "execute_result"
    }
   ],
   "source": [
    "commons = sentiment.id.isin(retweets.id)\n",
    "sum(commons)"
   ]
  },
  {
   "cell_type": "code",
   "execution_count": 968,
   "metadata": {},
   "outputs": [
    {
     "data": {
      "text/plain": [
       "88363"
      ]
     },
     "execution_count": 968,
     "metadata": {},
     "output_type": "execute_result"
    }
   ],
   "source": [
    "89103 - 740"
   ]
  },
  {
   "cell_type": "markdown",
   "metadata": {},
   "source": [
    "Now it makes sense since we see that not all the tweets were retweeted and appeared in the retweets file."
   ]
  },
  {
   "cell_type": "markdown",
   "metadata": {},
   "source": [
    "We can see that in the column 'retweets_total' that the minimum number of retweets is 1.000 meaning, that there is no 0 in the data sets. \n",
    "\n",
    "This observation enables us to substitute missing values in 'retweets_total' with 0, that could be understood as the absence of retweets. I'd like to underline that we cannot drop them since the amount of retweets is our dependent variables and tweets that got 0 retweets are very important and should be in the dataset.\n",
    "\n",
    "Let's replace the missing values in 'retweets_total' with 0.\n"
   ]
  },
  {
   "cell_type": "code",
   "execution_count": 969,
   "metadata": {},
   "outputs": [],
   "source": [
    "merged['retweets_total'] = merged['retweets_total'].fillna(0)"
   ]
  },
  {
   "cell_type": "markdown",
   "metadata": {},
   "source": [
    "Checking the missing values again. It should be 0 now."
   ]
  },
  {
   "cell_type": "code",
   "execution_count": 970,
   "metadata": {},
   "outputs": [
    {
     "data": {
      "text/plain": [
       "0"
      ]
     },
     "execution_count": 970,
     "metadata": {},
     "output_type": "execute_result"
    }
   ],
   "source": [
    "merged['retweets_total'].isna().sum()"
   ]
  },
  {
   "cell_type": "markdown",
   "metadata": {},
   "source": [
    "Checking if the datatype changed after altering the data."
   ]
  },
  {
   "cell_type": "code",
   "execution_count": 808,
   "metadata": {},
   "outputs": [
    {
     "data": {
      "text/plain": [
       "id                 object\n",
       "text               object\n",
       "negative           object\n",
       "positive           object\n",
       "neutral            object\n",
       "retweets_total    float64\n",
       "dtype: object"
      ]
     },
     "execution_count": 808,
     "metadata": {},
     "output_type": "execute_result"
    }
   ],
   "source": [
    "merged.dtypes"
   ]
  },
  {
   "cell_type": "markdown",
   "metadata": {},
   "source": [
    "Let's add the overall sentiment column. We need to change the datatypes of the columns related to the sentiment first."
   ]
  },
  {
   "cell_type": "code",
   "execution_count": 971,
   "metadata": {},
   "outputs": [],
   "source": [
    "merged['positive'] = merged['positive'].apply(pd.to_numeric)\n",
    "merged['negative'] = merged['negative'].apply(pd.to_numeric)\n",
    "merged['neutral'] = merged['neutral'].apply(pd.to_numeric)"
   ]
  },
  {
   "cell_type": "markdown",
   "metadata": {},
   "source": [
    "We need to create the 'overall_sentiment' column, because as it could be seen in the sentiment file each tweet simultaneously could have positive and negative sentiments. That implies that during sentiment analysis amount of sentiments (let's simply say the number of positive/negative words) are estimated per tweet. To understand the overall sentiment we need to summarize positive and negative sentiments (words/references)."
   ]
  },
  {
   "cell_type": "code",
   "execution_count": 972,
   "metadata": {},
   "outputs": [],
   "source": [
    "merged['overall_sentiment'] = merged['positive'] + merged['negative']"
   ]
  },
  {
   "cell_type": "code",
   "execution_count": 812,
   "metadata": {},
   "outputs": [
    {
     "data": {
      "text/plain": [
       "id                   0\n",
       "text                 0\n",
       "negative             0\n",
       "positive             0\n",
       "neutral              0\n",
       "retweets_total       0\n",
       "overall_sentiment    0\n",
       "dtype: int64"
      ]
     },
     "execution_count": 812,
     "metadata": {},
     "output_type": "execute_result"
    }
   ],
   "source": [
    "merged.isna().sum()"
   ]
  },
  {
   "cell_type": "markdown",
   "metadata": {},
   "source": [
    "Now we need to identify and remove the tweets that are only retweet events (is_retweet)"
   ]
  },
  {
   "cell_type": "code",
   "execution_count": 973,
   "metadata": {},
   "outputs": [],
   "source": [
    "def is_rt(text):\n",
    "    text = text.split()\n",
    "    if text[0] == 'RT':\n",
    "        return 1\n",
    "    return 0"
   ]
  },
  {
   "cell_type": "code",
   "execution_count": 974,
   "metadata": {},
   "outputs": [],
   "source": [
    "merged['is_retweet'] = merged['text'].apply(is_rt)"
   ]
  },
  {
   "cell_type": "code",
   "execution_count": 975,
   "metadata": {},
   "outputs": [
    {
     "data": {
      "text/plain": [
       "1    72105\n",
       "0    16998\n",
       "Name: is_retweet, dtype: int64"
      ]
     },
     "execution_count": 975,
     "metadata": {},
     "output_type": "execute_result"
    }
   ],
   "source": [
    "merged['is_retweet'].value_counts()"
   ]
  },
  {
   "cell_type": "markdown",
   "metadata": {},
   "source": [
    "We can see that only 16998 tweets in our dataset appear to be unique tweets (statements that were not retweeted), whereas 72105 tweets constitute the retweet events, that we need to get read (see the code below)."
   ]
  },
  {
   "cell_type": "code",
   "execution_count": 976,
   "metadata": {},
   "outputs": [],
   "source": [
    "merged = merged[merged['is_retweet']==0]"
   ]
  },
  {
   "cell_type": "code",
   "execution_count": 977,
   "metadata": {},
   "outputs": [
    {
     "data": {
      "text/plain": [
       "16998"
      ]
     },
     "execution_count": 977,
     "metadata": {},
     "output_type": "execute_result"
    }
   ],
   "source": [
    "len(merged)"
   ]
  },
  {
   "cell_type": "markdown",
   "metadata": {},
   "source": [
    "Let's see how the the 'text' colums looks like now (without the retweet events)."
   ]
  },
  {
   "cell_type": "code",
   "execution_count": 978,
   "metadata": {},
   "outputs": [
    {
     "data": {
      "text/plain": [
       "@chuckwoolery Democrats                                                                                                                                                                                                                                                                                                         7\n",
       "Nowadays, there is NO such thing as a GOOD Liberal.There is NO such thing as a GOOD Democrat. There is NO such thing as a GOOD Socialist. There is NO such thing as a GOOD Communist. ALL of the LEFT belong to SATAN/Soros. All of the RIGHT belong to GOD/Jesus. Romans 8\\nPLZ RT4ME.                                         7\n",
       "@CNN &amp; @MSNBC &amp; DEMOCRAT MEDIA is THE VIRUS...                                                                                                                                                                                                                                                                          5\n",
       "@chuckwoolery Democrats!                                                                                                                                                                                                                                                                                                        5\n",
       "Democrats                                                                                                                                                                                                                                                                                                                       5\n",
       "                                                                                                                                                                                                                                                                                                                               ..\n",
       "Jesus Christ Christian News: Rothschild nephilim descendant is using their communist Hillary &amp; Obama &amp; Democrat Party to sell American top military secret to Rothschild's China communist party &amp; nuclear tech to N.K. China is given task to hand America to the NWO global government https://t.co/M66oZkV1BV    1\n",
       "White House, House Democrats reach deal on coronavirus economic relief package, Pelosi announces https://t.co/Fw8OkSINIP                                                                                                                                                                                                        1\n",
       "Democrats claim we're all gonna die from COVID-19, or was it Climate Change? Zika? Mayan Calenders? Which?                                                                                                                                                                                                                      1\n",
       "@nsouthern95 @YouTube #EnemyOfThePeople \\n\\nWe just have to admit it. Democrats and the media are the fifth column                                                                                                                                                                                                              1\n",
       "@dp8084 @myraemacdonald Trump is reducing the Communist China Wuhan Flu.\\n\\nDemocrats are trying to kill us with their no travel bans and open borders !! https://t.co/DkZBHJSoej                                                                                                                                               1\n",
       "Name: text, Length: 16938, dtype: int64"
      ]
     },
     "execution_count": 978,
     "metadata": {},
     "output_type": "execute_result"
    }
   ],
   "source": [
    "merged['text'].value_counts()"
   ]
  },
  {
   "cell_type": "markdown",
   "metadata": {},
   "source": [
    "No 'RT' in the data anymore, but we see the retweets, for instance, from CNN, that could be considered as the limitation of our study. "
   ]
  },
  {
   "cell_type": "markdown",
   "metadata": {},
   "source": [
    "Let's create the IVs - 'overall_positive', 'overall negative' and 'overall_neutral' since, according to our research question, we are interested if negative tweets lead to more retweets. So, we need to create the binary variables from the continuous 'overall_sentiment'."
   ]
  },
  {
   "cell_type": "code",
   "execution_count": 979,
   "metadata": {},
   "outputs": [],
   "source": [
    "merged['overall_negative'] = merged['overall_sentiment'] < 0"
   ]
  },
  {
   "cell_type": "code",
   "execution_count": 980,
   "metadata": {},
   "outputs": [],
   "source": [
    "merged['overall_positive'] = merged['overall_sentiment'] > 0"
   ]
  },
  {
   "cell_type": "code",
   "execution_count": 981,
   "metadata": {},
   "outputs": [],
   "source": [
    "merged['overall_neutral'] = merged['overall_sentiment'] == 0"
   ]
  },
  {
   "cell_type": "code",
   "execution_count": 834,
   "metadata": {},
   "outputs": [
    {
     "data": {
      "text/plain": [
       "dtype('int32')"
      ]
     },
     "execution_count": 834,
     "metadata": {},
     "output_type": "execute_result"
    }
   ],
   "source": [
    "merged['overall_positive'].dtypes"
   ]
  },
  {
   "cell_type": "code",
   "execution_count": 835,
   "metadata": {},
   "outputs": [
    {
     "data": {
      "text/plain": [
       "dtype('int32')"
      ]
     },
     "execution_count": 835,
     "metadata": {},
     "output_type": "execute_result"
    }
   ],
   "source": [
    "merged['overall_positive'].dtypes"
   ]
  },
  {
   "cell_type": "markdown",
   "metadata": {},
   "source": [
    "For the further analysis we need to convert overall_positive, overall_negative and overall_neutral into integer."
   ]
  },
  {
   "cell_type": "code",
   "execution_count": 982,
   "metadata": {},
   "outputs": [],
   "source": [
    "merged['overall_positive']=merged.overall_positive.astype(int)"
   ]
  },
  {
   "cell_type": "code",
   "execution_count": 983,
   "metadata": {},
   "outputs": [],
   "source": [
    "merged['overall_negative']=merged.overall_negative.astype(int)"
   ]
  },
  {
   "cell_type": "code",
   "execution_count": 984,
   "metadata": {},
   "outputs": [],
   "source": [
    "merged['overall_neutral']=merged.overall_neutral.astype(int)"
   ]
  },
  {
   "cell_type": "code",
   "execution_count": 985,
   "metadata": {},
   "outputs": [
    {
     "data": {
      "text/html": [
       "<div>\n",
       "<style scoped>\n",
       "    .dataframe tbody tr th:only-of-type {\n",
       "        vertical-align: middle;\n",
       "    }\n",
       "\n",
       "    .dataframe tbody tr th {\n",
       "        vertical-align: top;\n",
       "    }\n",
       "\n",
       "    .dataframe thead th {\n",
       "        text-align: right;\n",
       "    }\n",
       "</style>\n",
       "<table border=\"1\" class=\"dataframe\">\n",
       "  <thead>\n",
       "    <tr style=\"text-align: right;\">\n",
       "      <th></th>\n",
       "      <th>id</th>\n",
       "      <th>text</th>\n",
       "      <th>from_user_friendcount</th>\n",
       "      <th>negative</th>\n",
       "      <th>positive</th>\n",
       "      <th>neutral</th>\n",
       "      <th>retweets_total</th>\n",
       "      <th>overall_sentiment</th>\n",
       "      <th>is_retweet</th>\n",
       "      <th>overall_negative</th>\n",
       "      <th>overall_positive</th>\n",
       "      <th>overall_neutral</th>\n",
       "    </tr>\n",
       "  </thead>\n",
       "  <tbody>\n",
       "    <tr>\n",
       "      <td>0</td>\n",
       "      <td>1238382160110931968</td>\n",
       "      <td>the top Democrat on the HELP Committee — to co...</td>\n",
       "      <td>55</td>\n",
       "      <td>-4</td>\n",
       "      <td>1</td>\n",
       "      <td>-1</td>\n",
       "      <td>0.000</td>\n",
       "      <td>-3</td>\n",
       "      <td>0</td>\n",
       "      <td>1</td>\n",
       "      <td>0</td>\n",
       "      <td>0</td>\n",
       "    </tr>\n",
       "    <tr>\n",
       "      <td>6</td>\n",
       "      <td>1238382374863265792</td>\n",
       "      <td>Mfs always depending on the government to save...</td>\n",
       "      <td>65</td>\n",
       "      <td>-3</td>\n",
       "      <td>2</td>\n",
       "      <td>-1</td>\n",
       "      <td>0.000</td>\n",
       "      <td>-1</td>\n",
       "      <td>0</td>\n",
       "      <td>1</td>\n",
       "      <td>0</td>\n",
       "      <td>0</td>\n",
       "    </tr>\n",
       "    <tr>\n",
       "      <td>7</td>\n",
       "      <td>1238382395482611714</td>\n",
       "      <td>41 Democrats in the Senate voted against a bil...</td>\n",
       "      <td>9478</td>\n",
       "      <td>-2</td>\n",
       "      <td>2</td>\n",
       "      <td>-1</td>\n",
       "      <td>0.000</td>\n",
       "      <td>0</td>\n",
       "      <td>0</td>\n",
       "      <td>0</td>\n",
       "      <td>0</td>\n",
       "      <td>1</td>\n",
       "    </tr>\n",
       "    <tr>\n",
       "      <td>11</td>\n",
       "      <td>1238382436943159296</td>\n",
       "      <td>@RightWingWatch And suspend rights. Send Democ...</td>\n",
       "      <td>299</td>\n",
       "      <td>-2</td>\n",
       "      <td>1</td>\n",
       "      <td>-1</td>\n",
       "      <td>0.000</td>\n",
       "      <td>-1</td>\n",
       "      <td>0</td>\n",
       "      <td>1</td>\n",
       "      <td>0</td>\n",
       "      <td>0</td>\n",
       "    </tr>\n",
       "    <tr>\n",
       "      <td>12</td>\n",
       "      <td>1238382487379861505</td>\n",
       "      <td>@retropianlove @ProudResister We're staying ho...</td>\n",
       "      <td>56</td>\n",
       "      <td>-3</td>\n",
       "      <td>2</td>\n",
       "      <td>-1</td>\n",
       "      <td>0.000</td>\n",
       "      <td>-1</td>\n",
       "      <td>0</td>\n",
       "      <td>1</td>\n",
       "      <td>0</td>\n",
       "      <td>0</td>\n",
       "    </tr>\n",
       "    <tr>\n",
       "      <td>17</td>\n",
       "      <td>1238382567360827394</td>\n",
       "      <td>@RepLeeZeldin Don't pay any attention to the F...</td>\n",
       "      <td>1439</td>\n",
       "      <td>-2</td>\n",
       "      <td>1</td>\n",
       "      <td>-1</td>\n",
       "      <td>0.000</td>\n",
       "      <td>-1</td>\n",
       "      <td>0</td>\n",
       "      <td>1</td>\n",
       "      <td>0</td>\n",
       "      <td>0</td>\n",
       "    </tr>\n",
       "    <tr>\n",
       "      <td>18</td>\n",
       "      <td>1238382609438212096</td>\n",
       "      <td>@AgiaTheBun @SailorHaumea And that was histori...</td>\n",
       "      <td>521</td>\n",
       "      <td>-2</td>\n",
       "      <td>1</td>\n",
       "      <td>-1</td>\n",
       "      <td>0.000</td>\n",
       "      <td>-1</td>\n",
       "      <td>0</td>\n",
       "      <td>1</td>\n",
       "      <td>0</td>\n",
       "      <td>0</td>\n",
       "    </tr>\n",
       "    <tr>\n",
       "      <td>25</td>\n",
       "      <td>1238382789508169730</td>\n",
       "      <td>@2simplyb @Matt_Lagana @AndyOstroy @realDonald...</td>\n",
       "      <td>238</td>\n",
       "      <td>-2</td>\n",
       "      <td>1</td>\n",
       "      <td>-1</td>\n",
       "      <td>0.000</td>\n",
       "      <td>-1</td>\n",
       "      <td>0</td>\n",
       "      <td>1</td>\n",
       "      <td>0</td>\n",
       "      <td>0</td>\n",
       "    </tr>\n",
       "    <tr>\n",
       "      <td>45</td>\n",
       "      <td>1238383045524283392</td>\n",
       "      <td>@Hobbit4DJT @VickeySmith10 @Wyn1745 @SpeakerPe...</td>\n",
       "      <td>33</td>\n",
       "      <td>-3</td>\n",
       "      <td>2</td>\n",
       "      <td>-1</td>\n",
       "      <td>0.000</td>\n",
       "      <td>-1</td>\n",
       "      <td>0</td>\n",
       "      <td>1</td>\n",
       "      <td>0</td>\n",
       "      <td>0</td>\n",
       "    </tr>\n",
       "    <tr>\n",
       "      <td>49</td>\n",
       "      <td>1238383133487247360</td>\n",
       "      <td>Democrats claim we're all gonna die from COVID...</td>\n",
       "      <td>718</td>\n",
       "      <td>-1</td>\n",
       "      <td>1</td>\n",
       "      <td>0</td>\n",
       "      <td>0.000</td>\n",
       "      <td>0</td>\n",
       "      <td>0</td>\n",
       "      <td>0</td>\n",
       "      <td>0</td>\n",
       "      <td>1</td>\n",
       "    </tr>\n",
       "    <tr>\n",
       "      <td>50</td>\n",
       "      <td>1238383142018240512</td>\n",
       "      <td>@SeanCasten @jasonfarleyJHU @GOP Idiotic left ...</td>\n",
       "      <td>320</td>\n",
       "      <td>-4</td>\n",
       "      <td>2</td>\n",
       "      <td>-1</td>\n",
       "      <td>0.000</td>\n",
       "      <td>-2</td>\n",
       "      <td>0</td>\n",
       "      <td>1</td>\n",
       "      <td>0</td>\n",
       "      <td>0</td>\n",
       "    </tr>\n",
       "    <tr>\n",
       "      <td>52</td>\n",
       "      <td>1238383175585247233</td>\n",
       "      <td>Good day, President Donald Trump, Vice Preside...</td>\n",
       "      <td>300</td>\n",
       "      <td>-1</td>\n",
       "      <td>2</td>\n",
       "      <td>1</td>\n",
       "      <td>0.000</td>\n",
       "      <td>1</td>\n",
       "      <td>0</td>\n",
       "      <td>0</td>\n",
       "      <td>1</td>\n",
       "      <td>0</td>\n",
       "    </tr>\n",
       "    <tr>\n",
       "      <td>64</td>\n",
       "      <td>1238383439835009024</td>\n",
       "      <td>@ScottFordTVGuy MSM and Democrats fear mongeri...</td>\n",
       "      <td>4931</td>\n",
       "      <td>-5</td>\n",
       "      <td>1</td>\n",
       "      <td>-1</td>\n",
       "      <td>0.000</td>\n",
       "      <td>-4</td>\n",
       "      <td>0</td>\n",
       "      <td>1</td>\n",
       "      <td>0</td>\n",
       "      <td>0</td>\n",
       "    </tr>\n",
       "    <tr>\n",
       "      <td>70</td>\n",
       "      <td>1238383532105502722</td>\n",
       "      <td>Its only special to the DERANGED DEMOCRATS !!!...</td>\n",
       "      <td>907</td>\n",
       "      <td>-4</td>\n",
       "      <td>3</td>\n",
       "      <td>-1</td>\n",
       "      <td>0.000</td>\n",
       "      <td>-1</td>\n",
       "      <td>0</td>\n",
       "      <td>1</td>\n",
       "      <td>0</td>\n",
       "      <td>0</td>\n",
       "    </tr>\n",
       "    <tr>\n",
       "      <td>73</td>\n",
       "      <td>1238383569757597696</td>\n",
       "      <td>@brianschatz Maybe it is because of all the ri...</td>\n",
       "      <td>671</td>\n",
       "      <td>-1</td>\n",
       "      <td>1</td>\n",
       "      <td>0</td>\n",
       "      <td>0.000</td>\n",
       "      <td>0</td>\n",
       "      <td>0</td>\n",
       "      <td>0</td>\n",
       "      <td>0</td>\n",
       "      <td>1</td>\n",
       "    </tr>\n",
       "    <tr>\n",
       "      <td>91</td>\n",
       "      <td>1238383801207795713</td>\n",
       "      <td>@philosophrob You're an idiot. So you prefer T...</td>\n",
       "      <td>2348</td>\n",
       "      <td>-3</td>\n",
       "      <td>2</td>\n",
       "      <td>-1</td>\n",
       "      <td>0.000</td>\n",
       "      <td>-1</td>\n",
       "      <td>0</td>\n",
       "      <td>1</td>\n",
       "      <td>0</td>\n",
       "      <td>0</td>\n",
       "    </tr>\n",
       "    <tr>\n",
       "      <td>94</td>\n",
       "      <td>1238383841997447169</td>\n",
       "      <td>This is why Democrats are losing Black voters....</td>\n",
       "      <td>209</td>\n",
       "      <td>-3</td>\n",
       "      <td>1</td>\n",
       "      <td>-1</td>\n",
       "      <td>0.000</td>\n",
       "      <td>-2</td>\n",
       "      <td>0</td>\n",
       "      <td>1</td>\n",
       "      <td>0</td>\n",
       "      <td>0</td>\n",
       "    </tr>\n",
       "    <tr>\n",
       "      <td>96</td>\n",
       "      <td>1238383926135214081</td>\n",
       "      <td>The Democrats put their agenda before your life.</td>\n",
       "      <td>142</td>\n",
       "      <td>-1</td>\n",
       "      <td>1</td>\n",
       "      <td>0</td>\n",
       "      <td>0.000</td>\n",
       "      <td>0</td>\n",
       "      <td>0</td>\n",
       "      <td>0</td>\n",
       "      <td>0</td>\n",
       "      <td>1</td>\n",
       "    </tr>\n",
       "    <tr>\n",
       "      <td>108</td>\n",
       "      <td>1238384161037131776</td>\n",
       "      <td>@GovWhitmer I LOATH Democrats on general princ...</td>\n",
       "      <td>122</td>\n",
       "      <td>-1</td>\n",
       "      <td>3</td>\n",
       "      <td>1</td>\n",
       "      <td>0.000</td>\n",
       "      <td>2</td>\n",
       "      <td>0</td>\n",
       "      <td>0</td>\n",
       "      <td>1</td>\n",
       "      <td>0</td>\n",
       "    </tr>\n",
       "    <tr>\n",
       "      <td>113</td>\n",
       "      <td>1238384257032048640</td>\n",
       "      <td>DEMOCRATS &amp;amp; MEDIA TRY BUT\\n\"...BIDEN’S COG...</td>\n",
       "      <td>39763</td>\n",
       "      <td>-2</td>\n",
       "      <td>1</td>\n",
       "      <td>-1</td>\n",
       "      <td>2.000</td>\n",
       "      <td>-1</td>\n",
       "      <td>0</td>\n",
       "      <td>1</td>\n",
       "      <td>0</td>\n",
       "      <td>0</td>\n",
       "    </tr>\n",
       "    <tr>\n",
       "      <td>117</td>\n",
       "      <td>1238384311788802051</td>\n",
       "      <td>Gallup polling shows congressional Republicans...</td>\n",
       "      <td>18296</td>\n",
       "      <td>-1</td>\n",
       "      <td>1</td>\n",
       "      <td>0</td>\n",
       "      <td>0.000</td>\n",
       "      <td>0</td>\n",
       "      <td>0</td>\n",
       "      <td>0</td>\n",
       "      <td>0</td>\n",
       "      <td>1</td>\n",
       "    </tr>\n",
       "    <tr>\n",
       "      <td>118</td>\n",
       "      <td>1238384316792569856</td>\n",
       "      <td>Gallup polling shows congressional Republicans...</td>\n",
       "      <td>57303</td>\n",
       "      <td>-1</td>\n",
       "      <td>1</td>\n",
       "      <td>0</td>\n",
       "      <td>4.000</td>\n",
       "      <td>0</td>\n",
       "      <td>0</td>\n",
       "      <td>0</td>\n",
       "      <td>0</td>\n",
       "      <td>1</td>\n",
       "    </tr>\n",
       "    <tr>\n",
       "      <td>119</td>\n",
       "      <td>1238384361361133568</td>\n",
       "      <td>At the next Democrat debate life alert buttons...</td>\n",
       "      <td>606</td>\n",
       "      <td>-1</td>\n",
       "      <td>1</td>\n",
       "      <td>0</td>\n",
       "      <td>0.000</td>\n",
       "      <td>0</td>\n",
       "      <td>0</td>\n",
       "      <td>0</td>\n",
       "      <td>0</td>\n",
       "      <td>1</td>\n",
       "    </tr>\n",
       "    <tr>\n",
       "      <td>120</td>\n",
       "      <td>1238384362132996096</td>\n",
       "      <td>@7News That's because you fake news media are ...</td>\n",
       "      <td>690</td>\n",
       "      <td>-3</td>\n",
       "      <td>1</td>\n",
       "      <td>-1</td>\n",
       "      <td>0.000</td>\n",
       "      <td>-2</td>\n",
       "      <td>0</td>\n",
       "      <td>1</td>\n",
       "      <td>0</td>\n",
       "      <td>0</td>\n",
       "    </tr>\n",
       "    <tr>\n",
       "      <td>125</td>\n",
       "      <td>1238384467632259073</td>\n",
       "      <td>CAN'T BELIEVE THE DEMOCRATS ARE TRYING TO MAKE...</td>\n",
       "      <td>4</td>\n",
       "      <td>-4</td>\n",
       "      <td>2</td>\n",
       "      <td>-1</td>\n",
       "      <td>0.000</td>\n",
       "      <td>-2</td>\n",
       "      <td>0</td>\n",
       "      <td>1</td>\n",
       "      <td>0</td>\n",
       "      <td>0</td>\n",
       "    </tr>\n",
       "    <tr>\n",
       "      <td>126</td>\n",
       "      <td>1238384476041940993</td>\n",
       "      <td>@rebecca_mehra It makes me sick how the Democr...</td>\n",
       "      <td>5867</td>\n",
       "      <td>-3</td>\n",
       "      <td>1</td>\n",
       "      <td>-1</td>\n",
       "      <td>0.000</td>\n",
       "      <td>-2</td>\n",
       "      <td>0</td>\n",
       "      <td>1</td>\n",
       "      <td>0</td>\n",
       "      <td>0</td>\n",
       "    </tr>\n",
       "    <tr>\n",
       "      <td>135</td>\n",
       "      <td>1238384731365965824</td>\n",
       "      <td>@HuffPost Republicans: We need to stop the par...</td>\n",
       "      <td>277</td>\n",
       "      <td>-1</td>\n",
       "      <td>2</td>\n",
       "      <td>1</td>\n",
       "      <td>0.000</td>\n",
       "      <td>1</td>\n",
       "      <td>0</td>\n",
       "      <td>0</td>\n",
       "      <td>1</td>\n",
       "      <td>0</td>\n",
       "    </tr>\n",
       "    <tr>\n",
       "      <td>144</td>\n",
       "      <td>1238384923830038529</td>\n",
       "      <td>@IanSams No to Joe, but don't take it personal...</td>\n",
       "      <td>2399</td>\n",
       "      <td>-1</td>\n",
       "      <td>2</td>\n",
       "      <td>1</td>\n",
       "      <td>0.000</td>\n",
       "      <td>1</td>\n",
       "      <td>0</td>\n",
       "      <td>0</td>\n",
       "      <td>1</td>\n",
       "      <td>0</td>\n",
       "    </tr>\n",
       "    <tr>\n",
       "      <td>147</td>\n",
       "      <td>1238384974602043393</td>\n",
       "      <td>Democrats are actually insane people. No cap</td>\n",
       "      <td>1652</td>\n",
       "      <td>-2</td>\n",
       "      <td>1</td>\n",
       "      <td>-1</td>\n",
       "      <td>0.000</td>\n",
       "      <td>-1</td>\n",
       "      <td>0</td>\n",
       "      <td>1</td>\n",
       "      <td>0</td>\n",
       "      <td>0</td>\n",
       "    </tr>\n",
       "    <tr>\n",
       "      <td>151</td>\n",
       "      <td>1238385025810194432</td>\n",
       "      <td>Crackpot Democrat Ayanna Pressley Accuses Repu...</td>\n",
       "      <td>62603</td>\n",
       "      <td>-1</td>\n",
       "      <td>1</td>\n",
       "      <td>0</td>\n",
       "      <td>1.000</td>\n",
       "      <td>0</td>\n",
       "      <td>0</td>\n",
       "      <td>0</td>\n",
       "      <td>0</td>\n",
       "      <td>1</td>\n",
       "    </tr>\n",
       "    <tr>\n",
       "      <td>158</td>\n",
       "      <td>1238385168466890752</td>\n",
       "      <td>@RubinReport Actually only ridiculous Democrat...</td>\n",
       "      <td>157</td>\n",
       "      <td>-3</td>\n",
       "      <td>1</td>\n",
       "      <td>-1</td>\n",
       "      <td>0.000</td>\n",
       "      <td>-2</td>\n",
       "      <td>0</td>\n",
       "      <td>1</td>\n",
       "      <td>0</td>\n",
       "      <td>0</td>\n",
       "    </tr>\n",
       "    <tr>\n",
       "      <td>159</td>\n",
       "      <td>1238385176650153986</td>\n",
       "      <td>@SenateGOP But it’s a democrat hoax</td>\n",
       "      <td>631</td>\n",
       "      <td>-1</td>\n",
       "      <td>1</td>\n",
       "      <td>0</td>\n",
       "      <td>0.000</td>\n",
       "      <td>0</td>\n",
       "      <td>0</td>\n",
       "      <td>0</td>\n",
       "      <td>0</td>\n",
       "      <td>1</td>\n",
       "    </tr>\n",
       "    <tr>\n",
       "      <td>161</td>\n",
       "      <td>1238385226759495680</td>\n",
       "      <td>Confronting Hitler : German Social Democrats i...</td>\n",
       "      <td>2297</td>\n",
       "      <td>-3</td>\n",
       "      <td>1</td>\n",
       "      <td>-1</td>\n",
       "      <td>0.000</td>\n",
       "      <td>-2</td>\n",
       "      <td>0</td>\n",
       "      <td>1</td>\n",
       "      <td>0</td>\n",
       "      <td>0</td>\n",
       "    </tr>\n",
       "    <tr>\n",
       "      <td>166</td>\n",
       "      <td>1238385352043196417</td>\n",
       "      <td>it's just that @JoeBiden is a Democrat version...</td>\n",
       "      <td>24</td>\n",
       "      <td>-2</td>\n",
       "      <td>1</td>\n",
       "      <td>-1</td>\n",
       "      <td>0.000</td>\n",
       "      <td>-1</td>\n",
       "      <td>0</td>\n",
       "      <td>1</td>\n",
       "      <td>0</td>\n",
       "      <td>0</td>\n",
       "    </tr>\n",
       "    <tr>\n",
       "      <td>173</td>\n",
       "      <td>1238385423740596229</td>\n",
       "      <td>#walkaway. All women should bring their Democr...</td>\n",
       "      <td>247</td>\n",
       "      <td>-1</td>\n",
       "      <td>3</td>\n",
       "      <td>1</td>\n",
       "      <td>0.000</td>\n",
       "      <td>2</td>\n",
       "      <td>0</td>\n",
       "      <td>0</td>\n",
       "      <td>1</td>\n",
       "      <td>0</td>\n",
       "    </tr>\n",
       "    <tr>\n",
       "      <td>182</td>\n",
       "      <td>1238385708374638592</td>\n",
       "      <td>Because they give no sh*ts except to disparage...</td>\n",
       "      <td>23147</td>\n",
       "      <td>-2</td>\n",
       "      <td>1</td>\n",
       "      <td>-1</td>\n",
       "      <td>1.000</td>\n",
       "      <td>-1</td>\n",
       "      <td>0</td>\n",
       "      <td>1</td>\n",
       "      <td>0</td>\n",
       "      <td>0</td>\n",
       "    </tr>\n",
       "    <tr>\n",
       "      <td>190</td>\n",
       "      <td>1238385905649553409</td>\n",
       "      <td>@GOP @realDonaldTrump @LouDobbs @TuckerCarlson...</td>\n",
       "      <td>2905</td>\n",
       "      <td>-5</td>\n",
       "      <td>2</td>\n",
       "      <td>-1</td>\n",
       "      <td>0.000</td>\n",
       "      <td>-3</td>\n",
       "      <td>0</td>\n",
       "      <td>1</td>\n",
       "      <td>0</td>\n",
       "      <td>0</td>\n",
       "    </tr>\n",
       "    <tr>\n",
       "      <td>192</td>\n",
       "      <td>1238385922414006272</td>\n",
       "      <td>@AsheSchow Because the media covers for democr...</td>\n",
       "      <td>273</td>\n",
       "      <td>-3</td>\n",
       "      <td>1</td>\n",
       "      <td>-1</td>\n",
       "      <td>0.000</td>\n",
       "      <td>-2</td>\n",
       "      <td>0</td>\n",
       "      <td>1</td>\n",
       "      <td>0</td>\n",
       "      <td>0</td>\n",
       "    </tr>\n",
       "    <tr>\n",
       "      <td>198</td>\n",
       "      <td>1238386023303798784</td>\n",
       "      <td>@SenJohnBarrasso @realDonaldTrump @SenatorFisc...</td>\n",
       "      <td>327</td>\n",
       "      <td>-4</td>\n",
       "      <td>1</td>\n",
       "      <td>-1</td>\n",
       "      <td>0.000</td>\n",
       "      <td>-3</td>\n",
       "      <td>0</td>\n",
       "      <td>1</td>\n",
       "      <td>0</td>\n",
       "      <td>0</td>\n",
       "    </tr>\n",
       "    <tr>\n",
       "      <td>199</td>\n",
       "      <td>1238386061245583360</td>\n",
       "      <td>@firasd @_sans_serif @BootsRiley I don't know ...</td>\n",
       "      <td>200</td>\n",
       "      <td>-1</td>\n",
       "      <td>1</td>\n",
       "      <td>0</td>\n",
       "      <td>0.000</td>\n",
       "      <td>0</td>\n",
       "      <td>0</td>\n",
       "      <td>0</td>\n",
       "      <td>0</td>\n",
       "      <td>1</td>\n",
       "    </tr>\n",
       "    <tr>\n",
       "      <td>204</td>\n",
       "      <td>1238386170184286208</td>\n",
       "      <td>@kozad86 @JustAGurLnSwedn @GotBeachGlass @IanC...</td>\n",
       "      <td>3262</td>\n",
       "      <td>-1</td>\n",
       "      <td>2</td>\n",
       "      <td>1</td>\n",
       "      <td>0.000</td>\n",
       "      <td>1</td>\n",
       "      <td>0</td>\n",
       "      <td>0</td>\n",
       "      <td>1</td>\n",
       "      <td>0</td>\n",
       "    </tr>\n",
       "    <tr>\n",
       "      <td>216</td>\n",
       "      <td>1238386505552474112</td>\n",
       "      <td>@mitchellvii She’s a Democrat.</td>\n",
       "      <td>1806</td>\n",
       "      <td>-1</td>\n",
       "      <td>1</td>\n",
       "      <td>0</td>\n",
       "      <td>0.000</td>\n",
       "      <td>0</td>\n",
       "      <td>0</td>\n",
       "      <td>0</td>\n",
       "      <td>0</td>\n",
       "      <td>1</td>\n",
       "    </tr>\n",
       "    <tr>\n",
       "      <td>226</td>\n",
       "      <td>1238386665141555201</td>\n",
       "      <td>@HillaryClinton @realDonaldTrump Democrats.nev...</td>\n",
       "      <td>120</td>\n",
       "      <td>-1</td>\n",
       "      <td>2</td>\n",
       "      <td>1</td>\n",
       "      <td>0.000</td>\n",
       "      <td>1</td>\n",
       "      <td>0</td>\n",
       "      <td>0</td>\n",
       "      <td>1</td>\n",
       "      <td>0</td>\n",
       "    </tr>\n",
       "    <tr>\n",
       "      <td>231</td>\n",
       "      <td>1238386728341327872</td>\n",
       "      <td>Our Always On Vacation Republicans at it again...</td>\n",
       "      <td>6</td>\n",
       "      <td>-1</td>\n",
       "      <td>1</td>\n",
       "      <td>0</td>\n",
       "      <td>0.000</td>\n",
       "      <td>0</td>\n",
       "      <td>0</td>\n",
       "      <td>0</td>\n",
       "      <td>0</td>\n",
       "      <td>1</td>\n",
       "    </tr>\n",
       "    <tr>\n",
       "      <td>233</td>\n",
       "      <td>1238386791150804992</td>\n",
       "      <td>Why do Democrats lie so much</td>\n",
       "      <td>754</td>\n",
       "      <td>-1</td>\n",
       "      <td>1</td>\n",
       "      <td>0</td>\n",
       "      <td>0.000</td>\n",
       "      <td>0</td>\n",
       "      <td>0</td>\n",
       "      <td>0</td>\n",
       "      <td>0</td>\n",
       "      <td>1</td>\n",
       "    </tr>\n",
       "    <tr>\n",
       "      <td>239</td>\n",
       "      <td>1238386983711498240</td>\n",
       "      <td>@MsJulieta @Bubblebathgirl @gretchenbarton Dem...</td>\n",
       "      <td>2333</td>\n",
       "      <td>-3</td>\n",
       "      <td>2</td>\n",
       "      <td>-1</td>\n",
       "      <td>0.000</td>\n",
       "      <td>-1</td>\n",
       "      <td>0</td>\n",
       "      <td>1</td>\n",
       "      <td>0</td>\n",
       "      <td>0</td>\n",
       "    </tr>\n",
       "    <tr>\n",
       "      <td>244</td>\n",
       "      <td>1238387054779736064</td>\n",
       "      <td>@VincentCrypt46 DEMOCRATS CAN STEAL THE NOMINA...</td>\n",
       "      <td>316</td>\n",
       "      <td>-3</td>\n",
       "      <td>1</td>\n",
       "      <td>-1</td>\n",
       "      <td>0.000</td>\n",
       "      <td>-2</td>\n",
       "      <td>0</td>\n",
       "      <td>1</td>\n",
       "      <td>0</td>\n",
       "      <td>0</td>\n",
       "    </tr>\n",
       "    <tr>\n",
       "      <td>246</td>\n",
       "      <td>1238387075776315393</td>\n",
       "      <td>@coochie_msmsmsm @captagon_addict @jeremaille1...</td>\n",
       "      <td>299</td>\n",
       "      <td>-2</td>\n",
       "      <td>1</td>\n",
       "      <td>-1</td>\n",
       "      <td>0.000</td>\n",
       "      <td>-1</td>\n",
       "      <td>0</td>\n",
       "      <td>1</td>\n",
       "      <td>0</td>\n",
       "      <td>0</td>\n",
       "    </tr>\n",
       "    <tr>\n",
       "      <td>257</td>\n",
       "      <td>1238387277526708226</td>\n",
       "      <td>Democrats are demonic</td>\n",
       "      <td>3009</td>\n",
       "      <td>-1</td>\n",
       "      <td>1</td>\n",
       "      <td>0</td>\n",
       "      <td>0.000</td>\n",
       "      <td>0</td>\n",
       "      <td>0</td>\n",
       "      <td>0</td>\n",
       "      <td>0</td>\n",
       "      <td>1</td>\n",
       "    </tr>\n",
       "    <tr>\n",
       "      <td>258</td>\n",
       "      <td>1238387290260594688</td>\n",
       "      <td>@realDonaldTrump maybe you should hv not blame...</td>\n",
       "      <td>3783</td>\n",
       "      <td>-3</td>\n",
       "      <td>1</td>\n",
       "      <td>-1</td>\n",
       "      <td>0.000</td>\n",
       "      <td>-2</td>\n",
       "      <td>0</td>\n",
       "      <td>1</td>\n",
       "      <td>0</td>\n",
       "      <td>0</td>\n",
       "    </tr>\n",
       "  </tbody>\n",
       "</table>\n",
       "</div>"
      ],
      "text/plain": [
       "                      id                                               text  \\\n",
       "0    1238382160110931968  the top Democrat on the HELP Committee — to co...   \n",
       "6    1238382374863265792  Mfs always depending on the government to save...   \n",
       "7    1238382395482611714  41 Democrats in the Senate voted against a bil...   \n",
       "11   1238382436943159296  @RightWingWatch And suspend rights. Send Democ...   \n",
       "12   1238382487379861505  @retropianlove @ProudResister We're staying ho...   \n",
       "17   1238382567360827394  @RepLeeZeldin Don't pay any attention to the F...   \n",
       "18   1238382609438212096  @AgiaTheBun @SailorHaumea And that was histori...   \n",
       "25   1238382789508169730  @2simplyb @Matt_Lagana @AndyOstroy @realDonald...   \n",
       "45   1238383045524283392  @Hobbit4DJT @VickeySmith10 @Wyn1745 @SpeakerPe...   \n",
       "49   1238383133487247360  Democrats claim we're all gonna die from COVID...   \n",
       "50   1238383142018240512  @SeanCasten @jasonfarleyJHU @GOP Idiotic left ...   \n",
       "52   1238383175585247233  Good day, President Donald Trump, Vice Preside...   \n",
       "64   1238383439835009024  @ScottFordTVGuy MSM and Democrats fear mongeri...   \n",
       "70   1238383532105502722  Its only special to the DERANGED DEMOCRATS !!!...   \n",
       "73   1238383569757597696  @brianschatz Maybe it is because of all the ri...   \n",
       "91   1238383801207795713  @philosophrob You're an idiot. So you prefer T...   \n",
       "94   1238383841997447169  This is why Democrats are losing Black voters....   \n",
       "96   1238383926135214081   The Democrats put their agenda before your life.   \n",
       "108  1238384161037131776  @GovWhitmer I LOATH Democrats on general princ...   \n",
       "113  1238384257032048640  DEMOCRATS &amp; MEDIA TRY BUT\\n\"...BIDEN’S COG...   \n",
       "117  1238384311788802051  Gallup polling shows congressional Republicans...   \n",
       "118  1238384316792569856  Gallup polling shows congressional Republicans...   \n",
       "119  1238384361361133568  At the next Democrat debate life alert buttons...   \n",
       "120  1238384362132996096  @7News That's because you fake news media are ...   \n",
       "125  1238384467632259073  CAN'T BELIEVE THE DEMOCRATS ARE TRYING TO MAKE...   \n",
       "126  1238384476041940993  @rebecca_mehra It makes me sick how the Democr...   \n",
       "135  1238384731365965824  @HuffPost Republicans: We need to stop the par...   \n",
       "144  1238384923830038529  @IanSams No to Joe, but don't take it personal...   \n",
       "147  1238384974602043393       Democrats are actually insane people. No cap   \n",
       "151  1238385025810194432  Crackpot Democrat Ayanna Pressley Accuses Repu...   \n",
       "158  1238385168466890752  @RubinReport Actually only ridiculous Democrat...   \n",
       "159  1238385176650153986                @SenateGOP But it’s a democrat hoax   \n",
       "161  1238385226759495680  Confronting Hitler : German Social Democrats i...   \n",
       "166  1238385352043196417  it's just that @JoeBiden is a Democrat version...   \n",
       "173  1238385423740596229  #walkaway. All women should bring their Democr...   \n",
       "182  1238385708374638592  Because they give no sh*ts except to disparage...   \n",
       "190  1238385905649553409  @GOP @realDonaldTrump @LouDobbs @TuckerCarlson...   \n",
       "192  1238385922414006272  @AsheSchow Because the media covers for democr...   \n",
       "198  1238386023303798784  @SenJohnBarrasso @realDonaldTrump @SenatorFisc...   \n",
       "199  1238386061245583360  @firasd @_sans_serif @BootsRiley I don't know ...   \n",
       "204  1238386170184286208  @kozad86 @JustAGurLnSwedn @GotBeachGlass @IanC...   \n",
       "216  1238386505552474112                     @mitchellvii She’s a Democrat.   \n",
       "226  1238386665141555201  @HillaryClinton @realDonaldTrump Democrats.nev...   \n",
       "231  1238386728341327872  Our Always On Vacation Republicans at it again...   \n",
       "233  1238386791150804992                       Why do Democrats lie so much   \n",
       "239  1238386983711498240  @MsJulieta @Bubblebathgirl @gretchenbarton Dem...   \n",
       "244  1238387054779736064  @VincentCrypt46 DEMOCRATS CAN STEAL THE NOMINA...   \n",
       "246  1238387075776315393  @coochie_msmsmsm @captagon_addict @jeremaille1...   \n",
       "257  1238387277526708226                              Democrats are demonic   \n",
       "258  1238387290260594688  @realDonaldTrump maybe you should hv not blame...   \n",
       "\n",
       "     from_user_friendcount  negative  positive  neutral  retweets_total  \\\n",
       "0                       55        -4         1       -1           0.000   \n",
       "6                       65        -3         2       -1           0.000   \n",
       "7                     9478        -2         2       -1           0.000   \n",
       "11                     299        -2         1       -1           0.000   \n",
       "12                      56        -3         2       -1           0.000   \n",
       "17                    1439        -2         1       -1           0.000   \n",
       "18                     521        -2         1       -1           0.000   \n",
       "25                     238        -2         1       -1           0.000   \n",
       "45                      33        -3         2       -1           0.000   \n",
       "49                     718        -1         1        0           0.000   \n",
       "50                     320        -4         2       -1           0.000   \n",
       "52                     300        -1         2        1           0.000   \n",
       "64                    4931        -5         1       -1           0.000   \n",
       "70                     907        -4         3       -1           0.000   \n",
       "73                     671        -1         1        0           0.000   \n",
       "91                    2348        -3         2       -1           0.000   \n",
       "94                     209        -3         1       -1           0.000   \n",
       "96                     142        -1         1        0           0.000   \n",
       "108                    122        -1         3        1           0.000   \n",
       "113                  39763        -2         1       -1           2.000   \n",
       "117                  18296        -1         1        0           0.000   \n",
       "118                  57303        -1         1        0           4.000   \n",
       "119                    606        -1         1        0           0.000   \n",
       "120                    690        -3         1       -1           0.000   \n",
       "125                      4        -4         2       -1           0.000   \n",
       "126                   5867        -3         1       -1           0.000   \n",
       "135                    277        -1         2        1           0.000   \n",
       "144                   2399        -1         2        1           0.000   \n",
       "147                   1652        -2         1       -1           0.000   \n",
       "151                  62603        -1         1        0           1.000   \n",
       "158                    157        -3         1       -1           0.000   \n",
       "159                    631        -1         1        0           0.000   \n",
       "161                   2297        -3         1       -1           0.000   \n",
       "166                     24        -2         1       -1           0.000   \n",
       "173                    247        -1         3        1           0.000   \n",
       "182                  23147        -2         1       -1           1.000   \n",
       "190                   2905        -5         2       -1           0.000   \n",
       "192                    273        -3         1       -1           0.000   \n",
       "198                    327        -4         1       -1           0.000   \n",
       "199                    200        -1         1        0           0.000   \n",
       "204                   3262        -1         2        1           0.000   \n",
       "216                   1806        -1         1        0           0.000   \n",
       "226                    120        -1         2        1           0.000   \n",
       "231                      6        -1         1        0           0.000   \n",
       "233                    754        -1         1        0           0.000   \n",
       "239                   2333        -3         2       -1           0.000   \n",
       "244                    316        -3         1       -1           0.000   \n",
       "246                    299        -2         1       -1           0.000   \n",
       "257                   3009        -1         1        0           0.000   \n",
       "258                   3783        -3         1       -1           0.000   \n",
       "\n",
       "     overall_sentiment  is_retweet  overall_negative  overall_positive  \\\n",
       "0                   -3           0                 1                 0   \n",
       "6                   -1           0                 1                 0   \n",
       "7                    0           0                 0                 0   \n",
       "11                  -1           0                 1                 0   \n",
       "12                  -1           0                 1                 0   \n",
       "17                  -1           0                 1                 0   \n",
       "18                  -1           0                 1                 0   \n",
       "25                  -1           0                 1                 0   \n",
       "45                  -1           0                 1                 0   \n",
       "49                   0           0                 0                 0   \n",
       "50                  -2           0                 1                 0   \n",
       "52                   1           0                 0                 1   \n",
       "64                  -4           0                 1                 0   \n",
       "70                  -1           0                 1                 0   \n",
       "73                   0           0                 0                 0   \n",
       "91                  -1           0                 1                 0   \n",
       "94                  -2           0                 1                 0   \n",
       "96                   0           0                 0                 0   \n",
       "108                  2           0                 0                 1   \n",
       "113                 -1           0                 1                 0   \n",
       "117                  0           0                 0                 0   \n",
       "118                  0           0                 0                 0   \n",
       "119                  0           0                 0                 0   \n",
       "120                 -2           0                 1                 0   \n",
       "125                 -2           0                 1                 0   \n",
       "126                 -2           0                 1                 0   \n",
       "135                  1           0                 0                 1   \n",
       "144                  1           0                 0                 1   \n",
       "147                 -1           0                 1                 0   \n",
       "151                  0           0                 0                 0   \n",
       "158                 -2           0                 1                 0   \n",
       "159                  0           0                 0                 0   \n",
       "161                 -2           0                 1                 0   \n",
       "166                 -1           0                 1                 0   \n",
       "173                  2           0                 0                 1   \n",
       "182                 -1           0                 1                 0   \n",
       "190                 -3           0                 1                 0   \n",
       "192                 -2           0                 1                 0   \n",
       "198                 -3           0                 1                 0   \n",
       "199                  0           0                 0                 0   \n",
       "204                  1           0                 0                 1   \n",
       "216                  0           0                 0                 0   \n",
       "226                  1           0                 0                 1   \n",
       "231                  0           0                 0                 0   \n",
       "233                  0           0                 0                 0   \n",
       "239                 -1           0                 1                 0   \n",
       "244                 -2           0                 1                 0   \n",
       "246                 -1           0                 1                 0   \n",
       "257                  0           0                 0                 0   \n",
       "258                 -2           0                 1                 0   \n",
       "\n",
       "     overall_neutral  \n",
       "0                  0  \n",
       "6                  0  \n",
       "7                  1  \n",
       "11                 0  \n",
       "12                 0  \n",
       "17                 0  \n",
       "18                 0  \n",
       "25                 0  \n",
       "45                 0  \n",
       "49                 1  \n",
       "50                 0  \n",
       "52                 0  \n",
       "64                 0  \n",
       "70                 0  \n",
       "73                 1  \n",
       "91                 0  \n",
       "94                 0  \n",
       "96                 1  \n",
       "108                0  \n",
       "113                0  \n",
       "117                1  \n",
       "118                1  \n",
       "119                1  \n",
       "120                0  \n",
       "125                0  \n",
       "126                0  \n",
       "135                0  \n",
       "144                0  \n",
       "147                0  \n",
       "151                1  \n",
       "158                0  \n",
       "159                1  \n",
       "161                0  \n",
       "166                0  \n",
       "173                0  \n",
       "182                0  \n",
       "190                0  \n",
       "192                0  \n",
       "198                0  \n",
       "199                1  \n",
       "204                0  \n",
       "216                1  \n",
       "226                0  \n",
       "231                1  \n",
       "233                1  \n",
       "239                0  \n",
       "244                0  \n",
       "246                0  \n",
       "257                1  \n",
       "258                0  "
      ]
     },
     "execution_count": 985,
     "metadata": {},
     "output_type": "execute_result"
    }
   ],
   "source": [
    "merged.head(50)"
   ]
  },
  {
   "cell_type": "markdown",
   "metadata": {},
   "source": [
    "# Data Exploration and Evaluation"
   ]
  },
  {
   "cell_type": "markdown",
   "metadata": {},
   "source": [
    "It's time to explore and describe all the variables we are using in our analysis to answer the research question. Namely:\n",
    "\n",
    "IV: 'overall_negative' (binary)\n",
    "\n",
    "IV: 'overall_positive' (binary)\n",
    "\n",
    "IV: 'overall_neutral' (binary) - we need this variable for the linear regression model only\n",
    "\n",
    "DV: 'retweets_total' (continuous)"
   ]
  },
  {
   "cell_type": "code",
   "execution_count": 986,
   "metadata": {},
   "outputs": [
    {
     "data": {
      "text/html": [
       "<div>\n",
       "<style scoped>\n",
       "    .dataframe tbody tr th:only-of-type {\n",
       "        vertical-align: middle;\n",
       "    }\n",
       "\n",
       "    .dataframe tbody tr th {\n",
       "        vertical-align: top;\n",
       "    }\n",
       "\n",
       "    .dataframe thead th {\n",
       "        text-align: right;\n",
       "    }\n",
       "</style>\n",
       "<table border=\"1\" class=\"dataframe\">\n",
       "  <thead>\n",
       "    <tr style=\"text-align: right;\">\n",
       "      <th></th>\n",
       "      <th>count</th>\n",
       "      <th>mean</th>\n",
       "      <th>std</th>\n",
       "      <th>min</th>\n",
       "      <th>25%</th>\n",
       "      <th>50%</th>\n",
       "      <th>75%</th>\n",
       "      <th>max</th>\n",
       "    </tr>\n",
       "  </thead>\n",
       "  <tbody>\n",
       "    <tr>\n",
       "      <td>retweets_total</td>\n",
       "      <td>16998.000</td>\n",
       "      <td>0.331</td>\n",
       "      <td>9.946</td>\n",
       "      <td>0.000</td>\n",
       "      <td>0.000</td>\n",
       "      <td>0.000</td>\n",
       "      <td>0.000</td>\n",
       "      <td>1120.000</td>\n",
       "    </tr>\n",
       "    <tr>\n",
       "      <td>overall_positive</td>\n",
       "      <td>16998.000</td>\n",
       "      <td>0.200</td>\n",
       "      <td>0.400</td>\n",
       "      <td>0.000</td>\n",
       "      <td>0.000</td>\n",
       "      <td>0.000</td>\n",
       "      <td>0.000</td>\n",
       "      <td>1.000</td>\n",
       "    </tr>\n",
       "    <tr>\n",
       "      <td>overall_negative</td>\n",
       "      <td>16998.000</td>\n",
       "      <td>0.452</td>\n",
       "      <td>0.498</td>\n",
       "      <td>0.000</td>\n",
       "      <td>0.000</td>\n",
       "      <td>0.000</td>\n",
       "      <td>1.000</td>\n",
       "      <td>1.000</td>\n",
       "    </tr>\n",
       "    <tr>\n",
       "      <td>overall_neutral</td>\n",
       "      <td>16998.000</td>\n",
       "      <td>0.348</td>\n",
       "      <td>0.476</td>\n",
       "      <td>0.000</td>\n",
       "      <td>0.000</td>\n",
       "      <td>0.000</td>\n",
       "      <td>1.000</td>\n",
       "      <td>1.000</td>\n",
       "    </tr>\n",
       "  </tbody>\n",
       "</table>\n",
       "</div>"
      ],
      "text/plain": [
       "                     count  mean   std   min   25%   50%   75%      max\n",
       "retweets_total   16998.000 0.331 9.946 0.000 0.000 0.000 0.000 1120.000\n",
       "overall_positive 16998.000 0.200 0.400 0.000 0.000 0.000 0.000    1.000\n",
       "overall_negative 16998.000 0.452 0.498 0.000 0.000 0.000 1.000    1.000\n",
       "overall_neutral  16998.000 0.348 0.476 0.000 0.000 0.000 1.000    1.000"
      ]
     },
     "execution_count": 986,
     "metadata": {},
     "output_type": "execute_result"
    }
   ],
   "source": [
    "merged[['retweets_total', 'overall_positive', 'overall_negative', 'overall_neutral']].describe().transpose()"
   ]
  },
  {
   "cell_type": "markdown",
   "metadata": {},
   "source": [
    "Analyzing the variables separately we could infer, that retweets_total have some outliers that makes std much higher than the mean and indicates that the nformation is not evenly distributed. \n",
    "\n",
    "We could consider removing the outliers, but from the quartiles (25%,50%,75%) we could see that most of the values are 0.\n",
    "\n",
    "With regards to overall_positive tweets, although the mean value is 0.2, most of them (according to the quartiles) are also 0. There are more overall negative tweets as they have the mean of 0.452."
   ]
  },
  {
   "cell_type": "markdown",
   "metadata": {},
   "source": [
    "Now let's take a look at the overall negative and overall positive retweets that got retweetes. "
   ]
  },
  {
   "cell_type": "code",
   "execution_count": 987,
   "metadata": {},
   "outputs": [
    {
     "data": {
      "text/html": [
       "<div>\n",
       "<style scoped>\n",
       "    .dataframe tbody tr th:only-of-type {\n",
       "        vertical-align: middle;\n",
       "    }\n",
       "\n",
       "    .dataframe tbody tr th {\n",
       "        vertical-align: top;\n",
       "    }\n",
       "\n",
       "    .dataframe thead th {\n",
       "        text-align: right;\n",
       "    }\n",
       "</style>\n",
       "<table border=\"1\" class=\"dataframe\">\n",
       "  <thead>\n",
       "    <tr style=\"text-align: right;\">\n",
       "      <th></th>\n",
       "      <th>count</th>\n",
       "      <th>mean</th>\n",
       "      <th>std</th>\n",
       "      <th>min</th>\n",
       "      <th>25%</th>\n",
       "      <th>50%</th>\n",
       "      <th>75%</th>\n",
       "      <th>max</th>\n",
       "    </tr>\n",
       "    <tr>\n",
       "      <th>overall_negative</th>\n",
       "      <th></th>\n",
       "      <th></th>\n",
       "      <th></th>\n",
       "      <th></th>\n",
       "      <th></th>\n",
       "      <th></th>\n",
       "      <th></th>\n",
       "      <th></th>\n",
       "    </tr>\n",
       "  </thead>\n",
       "  <tbody>\n",
       "    <tr>\n",
       "      <td>0</td>\n",
       "      <td>9317.000</td>\n",
       "      <td>0.415</td>\n",
       "      <td>12.967</td>\n",
       "      <td>0.000</td>\n",
       "      <td>0.000</td>\n",
       "      <td>0.000</td>\n",
       "      <td>0.000</td>\n",
       "      <td>1120.000</td>\n",
       "    </tr>\n",
       "    <tr>\n",
       "      <td>1</td>\n",
       "      <td>7681.000</td>\n",
       "      <td>0.230</td>\n",
       "      <td>3.866</td>\n",
       "      <td>0.000</td>\n",
       "      <td>0.000</td>\n",
       "      <td>0.000</td>\n",
       "      <td>0.000</td>\n",
       "      <td>264.000</td>\n",
       "    </tr>\n",
       "  </tbody>\n",
       "</table>\n",
       "</div>"
      ],
      "text/plain": [
       "                    count  mean    std   min   25%   50%   75%      max\n",
       "overall_negative                                                       \n",
       "0                9317.000 0.415 12.967 0.000 0.000 0.000 0.000 1120.000\n",
       "1                7681.000 0.230  3.866 0.000 0.000 0.000 0.000  264.000"
      ]
     },
     "execution_count": 987,
     "metadata": {},
     "output_type": "execute_result"
    }
   ],
   "source": [
    "merged.groupby('overall_negative')['retweets_total'].describe()"
   ]
  },
  {
   "cell_type": "code",
   "execution_count": 988,
   "metadata": {},
   "outputs": [
    {
     "data": {
      "text/html": [
       "<div>\n",
       "<style scoped>\n",
       "    .dataframe tbody tr th:only-of-type {\n",
       "        vertical-align: middle;\n",
       "    }\n",
       "\n",
       "    .dataframe tbody tr th {\n",
       "        vertical-align: top;\n",
       "    }\n",
       "\n",
       "    .dataframe thead th {\n",
       "        text-align: right;\n",
       "    }\n",
       "</style>\n",
       "<table border=\"1\" class=\"dataframe\">\n",
       "  <thead>\n",
       "    <tr style=\"text-align: right;\">\n",
       "      <th></th>\n",
       "      <th>count</th>\n",
       "      <th>mean</th>\n",
       "      <th>std</th>\n",
       "      <th>min</th>\n",
       "      <th>25%</th>\n",
       "      <th>50%</th>\n",
       "      <th>75%</th>\n",
       "      <th>max</th>\n",
       "    </tr>\n",
       "    <tr>\n",
       "      <th>overall_positive</th>\n",
       "      <th></th>\n",
       "      <th></th>\n",
       "      <th></th>\n",
       "      <th></th>\n",
       "      <th></th>\n",
       "      <th></th>\n",
       "      <th></th>\n",
       "      <th></th>\n",
       "    </tr>\n",
       "  </thead>\n",
       "  <tbody>\n",
       "    <tr>\n",
       "      <td>0</td>\n",
       "      <td>13602.000</td>\n",
       "      <td>0.347</td>\n",
       "      <td>10.911</td>\n",
       "      <td>0.000</td>\n",
       "      <td>0.000</td>\n",
       "      <td>0.000</td>\n",
       "      <td>0.000</td>\n",
       "      <td>1120.000</td>\n",
       "    </tr>\n",
       "    <tr>\n",
       "      <td>1</td>\n",
       "      <td>3396.000</td>\n",
       "      <td>0.267</td>\n",
       "      <td>4.278</td>\n",
       "      <td>0.000</td>\n",
       "      <td>0.000</td>\n",
       "      <td>0.000</td>\n",
       "      <td>0.000</td>\n",
       "      <td>194.000</td>\n",
       "    </tr>\n",
       "  </tbody>\n",
       "</table>\n",
       "</div>"
      ],
      "text/plain": [
       "                     count  mean    std   min   25%   50%   75%      max\n",
       "overall_positive                                                        \n",
       "0                13602.000 0.347 10.911 0.000 0.000 0.000 0.000 1120.000\n",
       "1                 3396.000 0.267  4.278 0.000 0.000 0.000 0.000  194.000"
      ]
     },
     "execution_count": 988,
     "metadata": {},
     "output_type": "execute_result"
    }
   ],
   "source": [
    "merged.groupby('overall_positive')['retweets_total'].describe()"
   ]
  },
  {
   "cell_type": "code",
   "execution_count": 989,
   "metadata": {},
   "outputs": [
    {
     "data": {
      "text/html": [
       "<div>\n",
       "<style scoped>\n",
       "    .dataframe tbody tr th:only-of-type {\n",
       "        vertical-align: middle;\n",
       "    }\n",
       "\n",
       "    .dataframe tbody tr th {\n",
       "        vertical-align: top;\n",
       "    }\n",
       "\n",
       "    .dataframe thead th {\n",
       "        text-align: right;\n",
       "    }\n",
       "</style>\n",
       "<table border=\"1\" class=\"dataframe\">\n",
       "  <thead>\n",
       "    <tr style=\"text-align: right;\">\n",
       "      <th></th>\n",
       "      <th>count</th>\n",
       "      <th>mean</th>\n",
       "      <th>std</th>\n",
       "      <th>min</th>\n",
       "      <th>25%</th>\n",
       "      <th>50%</th>\n",
       "      <th>75%</th>\n",
       "      <th>max</th>\n",
       "    </tr>\n",
       "    <tr>\n",
       "      <th>overall_neutral</th>\n",
       "      <th></th>\n",
       "      <th></th>\n",
       "      <th></th>\n",
       "      <th></th>\n",
       "      <th></th>\n",
       "      <th></th>\n",
       "      <th></th>\n",
       "      <th></th>\n",
       "    </tr>\n",
       "  </thead>\n",
       "  <tbody>\n",
       "    <tr>\n",
       "      <td>0</td>\n",
       "      <td>11077.000</td>\n",
       "      <td>0.242</td>\n",
       "      <td>3.996</td>\n",
       "      <td>0.000</td>\n",
       "      <td>0.000</td>\n",
       "      <td>0.000</td>\n",
       "      <td>0.000</td>\n",
       "      <td>264.000</td>\n",
       "    </tr>\n",
       "    <tr>\n",
       "      <td>1</td>\n",
       "      <td>5921.000</td>\n",
       "      <td>0.499</td>\n",
       "      <td>15.940</td>\n",
       "      <td>0.000</td>\n",
       "      <td>0.000</td>\n",
       "      <td>0.000</td>\n",
       "      <td>0.000</td>\n",
       "      <td>1120.000</td>\n",
       "    </tr>\n",
       "  </tbody>\n",
       "</table>\n",
       "</div>"
      ],
      "text/plain": [
       "                    count  mean    std   min   25%   50%   75%      max\n",
       "overall_neutral                                                        \n",
       "0               11077.000 0.242  3.996 0.000 0.000 0.000 0.000  264.000\n",
       "1                5921.000 0.499 15.940 0.000 0.000 0.000 0.000 1120.000"
      ]
     },
     "execution_count": 989,
     "metadata": {},
     "output_type": "execute_result"
    }
   ],
   "source": [
    "merged.groupby('overall_neutral')['retweets_total'].describe()"
   ]
  },
  {
   "cell_type": "markdown",
   "metadata": {},
   "source": [
    "From the grouped descriptive statistics about our dataset we could infer, the retweet rate for positive tweets about the democrats were higher than for negative tweets — 0.267 against 0.230 respectively. However, to state if these results are significant and to test our hypothesis we have to run further analysis that will be performed further."
   ]
  },
  {
   "cell_type": "markdown",
   "metadata": {},
   "source": [
    "# Visualizations for all variables used in the study"
   ]
  },
  {
   "cell_type": "markdown",
   "metadata": {},
   "source": [
    "First let us recall once again the variables we analyze to answer the RQ:\n",
    "\n",
    "IV: 'overall_negative' (binary)\n",
    "\n",
    "IV: 'overall_positive' (binary)\n",
    "\n",
    "IV: 'overall_neutral' (binary) - we need this variable for the linear regression model only\n",
    "\n",
    "DV: 'retweets_total' (continuous)\n",
    "\n",
    "So let's make a univariate visualization of each variable."
   ]
  },
  {
   "cell_type": "code",
   "execution_count": 990,
   "metadata": {},
   "outputs": [
    {
     "data": {
      "text/plain": [
       "<matplotlib.axes._subplots.AxesSubplot at 0x1a21933b448>"
      ]
     },
     "execution_count": 990,
     "metadata": {},
     "output_type": "execute_result"
    },
    {
     "data": {
      "image/png": "[encoded data removed]",
      "text/plain": [
       "<Figure size 432x288 with 1 Axes>"
      ]
     },
     "metadata": {
      "needs_background": "light"
     },
     "output_type": "display_data"
    }
   ],
   "source": [
    "sns.barplot(y=merged['overall_negative'])"
   ]
  },
  {
   "cell_type": "markdown",
   "metadata": {},
   "source": [
    "From the bart chart above we could infer that the average of overall_negative is roughly around 0.4"
   ]
  },
  {
   "cell_type": "code",
   "execution_count": 991,
   "metadata": {},
   "outputs": [
    {
     "data": {
      "text/plain": [
       "<matplotlib.axes._subplots.AxesSubplot at 0x1a210d838c8>"
      ]
     },
     "execution_count": 991,
     "metadata": {},
     "output_type": "execute_result"
    },
    {
     "data": {
      "image/png": "[encoded data removed]",
      "text/plain": [
       "<Figure size 432x288 with 1 Axes>"
      ]
     },
     "metadata": {
      "needs_background": "light"
     },
     "output_type": "display_data"
    }
   ],
   "source": [
    "sns.barplot(y=merged['overall_positive'])"
   ]
  },
  {
   "cell_type": "markdown",
   "metadata": {},
   "source": [
    "Likewise for the overall positive tweets the average is roughly about 0.2, that corresponds to the results of descriptive statistics above."
   ]
  },
  {
   "cell_type": "markdown",
   "metadata": {},
   "source": [
    "With regards to the total retweets, given that it's a continious variable, we make a distribution plot to see how it is distributed."
   ]
  },
  {
   "cell_type": "code",
   "execution_count": 992,
   "metadata": {},
   "outputs": [
    {
     "data": {
      "text/plain": [
       "<matplotlib.axes._subplots.AxesSubplot at 0x1a2192d6e48>"
      ]
     },
     "execution_count": 992,
     "metadata": {},
     "output_type": "execute_result"
    },
    {
     "data": {
      "image/png": "[encoded data removed]",
      "text/plain": [
       "<Figure size 432x288 with 1 Axes>"
      ]
     },
     "metadata": {
      "needs_background": "light"
     },
     "output_type": "display_data"
    }
   ],
   "source": [
    "sns.barplot(y=merged['overall_neutral'])"
   ]
  },
  {
   "cell_type": "markdown",
   "metadata": {},
   "source": [
    "Now we are analyzing the total number of the retweets."
   ]
  },
  {
   "cell_type": "code",
   "execution_count": 993,
   "metadata": {},
   "outputs": [
    {
     "data": {
      "text/plain": [
       "<matplotlib.axes._subplots.AxesSubplot at 0x1a22bb3c5c8>"
      ]
     },
     "execution_count": 993,
     "metadata": {},
     "output_type": "execute_result"
    },
    {
     "data": {
      "image/png": "[encoded data removed]",
      "text/plain": [
       "<Figure size 432x288 with 1 Axes>"
      ]
     },
     "metadata": {
      "needs_background": "light"
     },
     "output_type": "display_data"
    }
   ],
   "source": [
    "sns.distplot(merged['retweets_total'])"
   ]
  },
  {
   "cell_type": "markdown",
   "metadata": {},
   "source": [
    "Not very informative, we can see only that most of values were 0 and there are also some outliers in our dataset. Let's then create a barplot instead to see the average of retweets. "
   ]
  },
  {
   "cell_type": "code",
   "execution_count": 855,
   "metadata": {},
   "outputs": [
    {
     "data": {
      "text/plain": [
       "<matplotlib.axes._subplots.AxesSubplot at 0x1a2887bce88>"
      ]
     },
     "execution_count": 855,
     "metadata": {},
     "output_type": "execute_result"
    },
    {
     "data": {
      "image/png": "[encoded data removed]",
      "text/plain": [
       "<Figure size 432x288 with 1 Axes>"
      ]
     },
     "metadata": {
      "needs_background": "light"
     },
     "output_type": "display_data"
    }
   ],
   "source": [
    "sns.barplot(y=merged['retweets_total'])"
   ]
  },
  {
   "cell_type": "markdown",
   "metadata": {},
   "source": [
    "The average rate of the retweets is about 0.33."
   ]
  },
  {
   "cell_type": "markdown",
   "metadata": {},
   "source": [
    "To see the relations between variable we are making the bivariate visualization.\n",
    "\n",
    "First, let's explore the relations between negative tweets and amount of retweets they received."
   ]
  },
  {
   "cell_type": "markdown",
   "metadata": {},
   "source": [
    "Even though we consider the scatter plot as not appropriate visualization, given that our independent variable (overall_negative)is not continious, but binary, so it is not possible for the tweet to be, for instance, 0.2 negative. However, we would like to see how the data is distributed and whether there is a relation between two variables. So for the sake of curiosity let's do so. "
   ]
  },
  {
   "cell_type": "code",
   "execution_count": 994,
   "metadata": {},
   "outputs": [
    {
     "data": {
      "text/plain": [
       "<matplotlib.axes._subplots.AxesSubplot at 0x1a2ac6f9b88>"
      ]
     },
     "execution_count": 994,
     "metadata": {},
     "output_type": "execute_result"
    },
    {
     "data": {
      "image/png": "[encoded data removed]",
      "text/plain": [
       "<Figure size 432x288 with 1 Axes>"
      ]
     },
     "metadata": {
      "needs_background": "light"
     },
     "output_type": "display_data"
    }
   ],
   "source": [
    "sns.regplot(x='overall_negative', y='retweets_total', data=merged)"
   ]
  },
  {
   "cell_type": "markdown",
   "metadata": {},
   "source": [
    "The scatter plot shows no relations between the negativity of the tweets and the number of retweets. Once again we see outliers in retweets, but as it was discussed above we do not see the sense of getting rid of them. However, to justify this decision once again let's cut them out and see if it would make a difference.\n",
    "\n",
    "In the scatter plot above we see that the most outrageous outliers are those tweets that got more than 190 retweets. So let's exclude them from our data and see if that will change the overall picture."
   ]
  },
  {
   "cell_type": "code",
   "execution_count": 995,
   "metadata": {},
   "outputs": [
    {
     "data": {
      "text/plain": [
       "<matplotlib.axes._subplots.AxesSubplot at 0x1a2ac76f3c8>"
      ]
     },
     "execution_count": 995,
     "metadata": {},
     "output_type": "execute_result"
    },
    {
     "data": {
      "image/png": "[encoded data removed]",
      "text/plain": [
       "<Figure size 432x288 with 1 Axes>"
      ]
     },
     "metadata": {
      "needs_background": "light"
     },
     "output_type": "display_data"
    }
   ],
   "source": [
    "sns.regplot(x='overall_negative', y='retweets_total', data=merged[merged.retweets_total < 190])"
   ]
  },
  {
   "cell_type": "markdown",
   "metadata": {},
   "source": [
    "So once again we see, that the data is very unevenly distributed and there are a lot of values that are far from the mean. This approach doesn't seem very fitting.\n",
    "\n",
    "Bearing that in mind let's create a barplot for overall negative/retweets total relations."
   ]
  },
  {
   "cell_type": "code",
   "execution_count": 996,
   "metadata": {},
   "outputs": [
    {
     "data": {
      "text/plain": [
       "<matplotlib.axes._subplots.AxesSubplot at 0x1a2ac67a488>"
      ]
     },
     "execution_count": 996,
     "metadata": {},
     "output_type": "execute_result"
    },
    {
     "data": {
      "image/png": "[encoded data removed]",
      "text/plain": [
       "<Figure size 432x288 with 1 Axes>"
      ]
     },
     "metadata": {
      "needs_background": "light"
     },
     "output_type": "display_data"
    }
   ],
   "source": [
    "sns.barplot(x='overall_negative', y='retweets_total', data=merged)"
   ]
  },
  {
   "cell_type": "markdown",
   "metadata": {},
   "source": [
    "And for overall positive/retweets total relations."
   ]
  },
  {
   "cell_type": "code",
   "execution_count": 997,
   "metadata": {},
   "outputs": [
    {
     "data": {
      "text/plain": [
       "<matplotlib.axes._subplots.AxesSubplot at 0x1a2ac67b848>"
      ]
     },
     "execution_count": 997,
     "metadata": {},
     "output_type": "execute_result"
    },
    {
     "data": {
      "image/png": "[encoded data removed]",
      "text/plain": [
       "<Figure size 432x288 with 1 Axes>"
      ]
     },
     "metadata": {
      "needs_background": "light"
     },
     "output_type": "display_data"
    }
   ],
   "source": [
    "sns.barplot(x='overall_positive', y='retweets_total', data=merged)"
   ]
  },
  {
   "cell_type": "markdown",
   "metadata": {},
   "source": [
    "Once again we see from the visualization that overall positive tweets gained slightly more retweets than overall negative. However, we would like to make more demonstrative visualization showing simultaneously relations between overall negative, overall positive and the number of retweets they got. For this purpose, using information from Stack Overflow, lets create a new column, that would contain information about positivity (1) and negativity (0) of tweets excluding neutral tweets. We will use this data set only to show the visualization. Later in our analysis we will stick to the 'merged' file."
   ]
  },
  {
   "cell_type": "code",
   "execution_count": 998,
   "metadata": {},
   "outputs": [
    {
     "name": "stderr",
     "output_type": "stream",
     "text": [
      "C:\\Users\\1\\Anaconda3\\lib\\site-packages\\ipykernel_launcher.py:2: SettingWithCopyWarning: \n",
      "A value is trying to be set on a copy of a slice from a DataFrame.\n",
      "Try using .loc[row_indexer,col_indexer] = value instead\n",
      "\n",
      "See the caveats in the documentation: http://pandas.pydata.org/pandas-docs/stable/user_guide/indexing.html#returning-a-view-versus-a-copy\n",
      "  \n",
      "C:\\Users\\1\\Anaconda3\\lib\\site-packages\\ipykernel_launcher.py:3: SettingWithCopyWarning: \n",
      "A value is trying to be set on a copy of a slice from a DataFrame.\n",
      "Try using .loc[row_indexer,col_indexer] = value instead\n",
      "\n",
      "See the caveats in the documentation: http://pandas.pydata.org/pandas-docs/stable/user_guide/indexing.html#returning-a-view-versus-a-copy\n",
      "  This is separate from the ipykernel package so we can avoid doing imports until\n"
     ]
    }
   ],
   "source": [
    "sentimental = merged[merged.overall_sentiment != 0]\n",
    "sentimental['ispositive']=  sentimental['overall_sentiment'] > 0\n",
    "sentimental['ispositive']=sentimental.ispositive.astype(int)"
   ]
  },
  {
   "cell_type": "code",
   "execution_count": 861,
   "metadata": {},
   "outputs": [
    {
     "data": {
      "text/html": [
       "<div>\n",
       "<style scoped>\n",
       "    .dataframe tbody tr th:only-of-type {\n",
       "        vertical-align: middle;\n",
       "    }\n",
       "\n",
       "    .dataframe tbody tr th {\n",
       "        vertical-align: top;\n",
       "    }\n",
       "\n",
       "    .dataframe thead th {\n",
       "        text-align: right;\n",
       "    }\n",
       "</style>\n",
       "<table border=\"1\" class=\"dataframe\">\n",
       "  <thead>\n",
       "    <tr style=\"text-align: right;\">\n",
       "      <th></th>\n",
       "      <th>id</th>\n",
       "      <th>text</th>\n",
       "      <th>negative</th>\n",
       "      <th>positive</th>\n",
       "      <th>neutral</th>\n",
       "      <th>retweets_total</th>\n",
       "      <th>overall_sentiment</th>\n",
       "      <th>is_retweet</th>\n",
       "      <th>overall_negative</th>\n",
       "      <th>overall_positive</th>\n",
       "      <th>overall_neutral</th>\n",
       "      <th>ispositive</th>\n",
       "    </tr>\n",
       "  </thead>\n",
       "  <tbody>\n",
       "    <tr>\n",
       "      <td>0</td>\n",
       "      <td>1238382160110931968</td>\n",
       "      <td>the top Democrat on the HELP Committee — to co...</td>\n",
       "      <td>-4</td>\n",
       "      <td>1</td>\n",
       "      <td>-1</td>\n",
       "      <td>0.000</td>\n",
       "      <td>-3</td>\n",
       "      <td>0</td>\n",
       "      <td>1</td>\n",
       "      <td>0</td>\n",
       "      <td>0</td>\n",
       "      <td>0</td>\n",
       "    </tr>\n",
       "    <tr>\n",
       "      <td>6</td>\n",
       "      <td>1238382374863265792</td>\n",
       "      <td>Mfs always depending on the government to save...</td>\n",
       "      <td>-3</td>\n",
       "      <td>2</td>\n",
       "      <td>-1</td>\n",
       "      <td>0.000</td>\n",
       "      <td>-1</td>\n",
       "      <td>0</td>\n",
       "      <td>1</td>\n",
       "      <td>0</td>\n",
       "      <td>0</td>\n",
       "      <td>0</td>\n",
       "    </tr>\n",
       "    <tr>\n",
       "      <td>11</td>\n",
       "      <td>1238382436943159296</td>\n",
       "      <td>@RightWingWatch And suspend rights. Send Democ...</td>\n",
       "      <td>-2</td>\n",
       "      <td>1</td>\n",
       "      <td>-1</td>\n",
       "      <td>0.000</td>\n",
       "      <td>-1</td>\n",
       "      <td>0</td>\n",
       "      <td>1</td>\n",
       "      <td>0</td>\n",
       "      <td>0</td>\n",
       "      <td>0</td>\n",
       "    </tr>\n",
       "    <tr>\n",
       "      <td>12</td>\n",
       "      <td>1238382487379861505</td>\n",
       "      <td>@retropianlove @ProudResister We're staying ho...</td>\n",
       "      <td>-3</td>\n",
       "      <td>2</td>\n",
       "      <td>-1</td>\n",
       "      <td>0.000</td>\n",
       "      <td>-1</td>\n",
       "      <td>0</td>\n",
       "      <td>1</td>\n",
       "      <td>0</td>\n",
       "      <td>0</td>\n",
       "      <td>0</td>\n",
       "    </tr>\n",
       "    <tr>\n",
       "      <td>17</td>\n",
       "      <td>1238382567360827394</td>\n",
       "      <td>@RepLeeZeldin Don't pay any attention to the F...</td>\n",
       "      <td>-2</td>\n",
       "      <td>1</td>\n",
       "      <td>-1</td>\n",
       "      <td>0.000</td>\n",
       "      <td>-1</td>\n",
       "      <td>0</td>\n",
       "      <td>1</td>\n",
       "      <td>0</td>\n",
       "      <td>0</td>\n",
       "      <td>0</td>\n",
       "    </tr>\n",
       "  </tbody>\n",
       "</table>\n",
       "</div>"
      ],
      "text/plain": [
       "                     id                                               text  \\\n",
       "0   1238382160110931968  the top Democrat on the HELP Committee — to co...   \n",
       "6   1238382374863265792  Mfs always depending on the government to save...   \n",
       "11  1238382436943159296  @RightWingWatch And suspend rights. Send Democ...   \n",
       "12  1238382487379861505  @retropianlove @ProudResister We're staying ho...   \n",
       "17  1238382567360827394  @RepLeeZeldin Don't pay any attention to the F...   \n",
       "\n",
       "    negative  positive  neutral  retweets_total  overall_sentiment  \\\n",
       "0         -4         1       -1           0.000                 -3   \n",
       "6         -3         2       -1           0.000                 -1   \n",
       "11        -2         1       -1           0.000                 -1   \n",
       "12        -3         2       -1           0.000                 -1   \n",
       "17        -2         1       -1           0.000                 -1   \n",
       "\n",
       "    is_retweet  overall_negative  overall_positive  overall_neutral  \\\n",
       "0            0                 1                 0                0   \n",
       "6            0                 1                 0                0   \n",
       "11           0                 1                 0                0   \n",
       "12           0                 1                 0                0   \n",
       "17           0                 1                 0                0   \n",
       "\n",
       "    ispositive  \n",
       "0            0  \n",
       "6            0  \n",
       "11           0  \n",
       "12           0  \n",
       "17           0  "
      ]
     },
     "execution_count": 861,
     "metadata": {},
     "output_type": "execute_result"
    }
   ],
   "source": [
    "sentimental.head()"
   ]
  },
  {
   "cell_type": "code",
   "execution_count": 999,
   "metadata": {},
   "outputs": [
    {
     "data": {
      "text/plain": [
       "<matplotlib.axes._subplots.AxesSubplot at 0x1a2ac6028c8>"
      ]
     },
     "execution_count": 999,
     "metadata": {},
     "output_type": "execute_result"
    },
    {
     "data": {
      "image/png": "[encoded data removed]",
      "text/plain": [
       "<Figure size 432x288 with 1 Axes>"
      ]
     },
     "metadata": {
      "needs_background": "light"
     },
     "output_type": "display_data"
    }
   ],
   "source": [
    "sns.barplot(x='ispositive', y='retweets_total', data=sentimental)"
   ]
  },
  {
   "cell_type": "markdown",
   "metadata": {},
   "source": [
    "Overall, the bar plot could speak of the certain trend in the data, namely, that positive tweets have higher retweet rate, but the overlapping confidence intervals make this results statistically insignificant."
   ]
  },
  {
   "cell_type": "markdown",
   "metadata": {},
   "source": [
    "# Moddeling and Hypothesis Testing"
   ]
  },
  {
   "cell_type": "markdown",
   "metadata": {},
   "source": [
    "To test our hypothesis and statistical significance we choose to use the linear regression given that our dependent variables (overall positive, overall negative) are continuous.\n",
    "\n",
    "To test the difference between the negative and positive tweets we need to keep one of the mutially exclusive categories in terms of sentiments out of the model (let it be positive), so that is why we need to include 'neutral' in the model. So any results we will get from the model will be compared to overall_positive tweets, that are out of the model."
   ]
  },
  {
   "cell_type": "code",
   "execution_count": 1000,
   "metadata": {},
   "outputs": [
    {
     "name": "stderr",
     "output_type": "stream",
     "text": [
      "C:\\Users\\1\\Anaconda3\\lib\\site-packages\\numpy\\core\\fromnumeric.py:2389: FutureWarning: Method .ptp is deprecated and will be removed in a future version. Use numpy.ptp instead.\n",
      "  return ptp(axis=axis, out=out, **kwargs)\n"
     ]
    }
   ],
   "source": [
    "ols_stat = sm.OLS(merged['retweets_total'], sm.add_constant(merged[['overall_negative', 'overall_neutral']]))"
   ]
  },
  {
   "cell_type": "code",
   "execution_count": 1001,
   "metadata": {},
   "outputs": [],
   "source": [
    "result_ols = ols_stat.fit()"
   ]
  },
  {
   "cell_type": "code",
   "execution_count": 1002,
   "metadata": {},
   "outputs": [
    {
     "name": "stdout",
     "output_type": "stream",
     "text": [
      "                            OLS Regression Results                            \n",
      "==============================================================================\n",
      "Dep. Variable:         retweets_total   R-squared:                       0.000\n",
      "Model:                            OLS   Adj. R-squared:                  0.000\n",
      "Method:                 Least Squares   F-statistic:                     1.310\n",
      "Date:                Mon, 23 Mar 2020   Prob (F-statistic):              0.270\n",
      "Time:                        23:28:41   Log-Likelihood:                -63164.\n",
      "No. Observations:               16998   AIC:                         1.263e+05\n",
      "Df Residuals:                   16995   BIC:                         1.264e+05\n",
      "Df Model:                           2                                         \n",
      "Covariance Type:            nonrobust                                         \n",
      "====================================================================================\n",
      "                       coef    std err          t      P>|t|      [0.025      0.975]\n",
      "------------------------------------------------------------------------------------\n",
      "const                0.2671      0.171      1.565      0.118      -0.067       0.602\n",
      "overall_negative    -0.0366      0.205     -0.179      0.858      -0.438       0.365\n",
      "overall_neutral      0.2322      0.214      1.084      0.278      -0.187       0.652\n",
      "==============================================================================\n",
      "Omnibus:                    65615.012   Durbin-Watson:                   2.002\n",
      "Prob(Omnibus):                  0.000   Jarque-Bera (JB):      66986650571.956\n",
      "Skew:                          91.241   Prob(JB):                         0.00\n",
      "Kurtosis:                    9726.539   Cond. No.                         4.76\n",
      "==============================================================================\n",
      "\n",
      "Warnings:\n",
      "[1] Standard Errors assume that the covariance matrix of the errors is correctly specified.\n"
     ]
    }
   ],
   "source": [
    "print(result_ols.summary())"
   ]
  },
  {
   "cell_type": "markdown",
   "metadata": {},
   "source": [
    "The used model appeared to be very poorly fitting since R-squared and Adj. R-squared equal zero and P-values greater than 0.05, that makes the results insignificant and shows no relations between positivity/negativity of the tweets and the number of retweets. More detailed discussion of the results read under the 'Evaluation' section."
   ]
  },
  {
   "cell_type": "markdown",
   "metadata": {},
   "source": [
    "We would like also run the machine learning model for the \n",
    "predictive analytics below. "
   ]
  },
  {
   "cell_type": "markdown",
   "metadata": {},
   "source": [
    "# Using machine learning to predict cases"
   ]
  },
  {
   "cell_type": "code",
   "execution_count": 1003,
   "metadata": {},
   "outputs": [],
   "source": [
    "ols_clf = LinearRegression(fit_intercept = True)"
   ]
  },
  {
   "cell_type": "code",
   "execution_count": 1004,
   "metadata": {},
   "outputs": [
    {
     "data": {
      "text/plain": [
       "LinearRegression(copy_X=True, fit_intercept=True, n_jobs=None, normalize=False)"
      ]
     },
     "execution_count": 1004,
     "metadata": {},
     "output_type": "execute_result"
    }
   ],
   "source": [
    "ols_clf.fit(merged[['negative', 'positive']], merged['retweets_total'])"
   ]
  },
  {
   "cell_type": "markdown",
   "metadata": {},
   "source": [
    "By running this model we would like to predict how many retweets the tweet could have if being negative."
   ]
  },
  {
   "cell_type": "code",
   "execution_count": 1005,
   "metadata": {},
   "outputs": [
    {
     "data": {
      "text/plain": [
       "array([0.24105358])"
      ]
     },
     "execution_count": 1005,
     "metadata": {},
     "output_type": "execute_result"
    }
   ],
   "source": [
    "ols_clf.predict([[1,0]])"
   ]
  },
  {
   "cell_type": "markdown",
   "metadata": {},
   "source": [
    "Likewise for the positive tweet."
   ]
  },
  {
   "cell_type": "code",
   "execution_count": 929,
   "metadata": {},
   "outputs": [
    {
     "data": {
      "text/plain": [
       "array([0.31841706])"
      ]
     },
     "execution_count": 929,
     "metadata": {},
     "output_type": "execute_result"
    }
   ],
   "source": [
    "ols_clf.predict([[0,1]])"
   ]
  },
  {
   "cell_type": "markdown",
   "metadata": {},
   "source": [
    "And if the tweet is not negative nor positive."
   ]
  },
  {
   "cell_type": "code",
   "execution_count": 604,
   "metadata": {},
   "outputs": [
    {
     "data": {
      "text/plain": [
       "array([0.05919746])"
      ]
     },
     "execution_count": 604,
     "metadata": {},
     "output_type": "execute_result"
    }
   ],
   "source": [
    "ols_clf.predict([[0,0]])"
   ]
  },
  {
   "cell_type": "markdown",
   "metadata": {},
   "source": [
    "Read the discussion of the results under the 'Evaluation' section."
   ]
  },
  {
   "cell_type": "markdown",
   "metadata": {},
   "source": [
    "We can also change the comparative element, however, the new model theoretically should not work as well since we just change the 'places' of the variables. Let's see."
   ]
  },
  {
   "cell_type": "code",
   "execution_count": 1006,
   "metadata": {},
   "outputs": [
    {
     "name": "stderr",
     "output_type": "stream",
     "text": [
      "C:\\Users\\1\\Anaconda3\\lib\\site-packages\\numpy\\core\\fromnumeric.py:2389: FutureWarning: Method .ptp is deprecated and will be removed in a future version. Use numpy.ptp instead.\n",
      "  return ptp(axis=axis, out=out, **kwargs)\n"
     ]
    }
   ],
   "source": [
    "ols_stat = sm.OLS(merged['retweets_total'], sm.add_constant(merged[['overall_negative', 'overall_positive']]))"
   ]
  },
  {
   "cell_type": "code",
   "execution_count": 1008,
   "metadata": {},
   "outputs": [],
   "source": [
    "result_ols = ols_stat.fit()"
   ]
  },
  {
   "cell_type": "code",
   "execution_count": 1009,
   "metadata": {},
   "outputs": [
    {
     "name": "stdout",
     "output_type": "stream",
     "text": [
      "                            OLS Regression Results                            \n",
      "==============================================================================\n",
      "Dep. Variable:         retweets_total   R-squared:                       0.000\n",
      "Model:                            OLS   Adj. R-squared:                  0.000\n",
      "Method:                 Least Squares   F-statistic:                     1.310\n",
      "Date:                Mon, 23 Mar 2020   Prob (F-statistic):              0.270\n",
      "Time:                        23:29:48   Log-Likelihood:                -63164.\n",
      "No. Observations:               16998   AIC:                         1.263e+05\n",
      "Df Residuals:                   16995   BIC:                         1.264e+05\n",
      "Df Model:                           2                                         \n",
      "Covariance Type:            nonrobust                                         \n",
      "====================================================================================\n",
      "                       coef    std err          t      P>|t|      [0.025      0.975]\n",
      "------------------------------------------------------------------------------------\n",
      "const                0.4992      0.129      3.863      0.000       0.246       0.753\n",
      "overall_negative    -0.2688      0.172     -1.563      0.118      -0.606       0.068\n",
      "overall_positive    -0.2322      0.214     -1.084      0.278      -0.652       0.187\n",
      "==============================================================================\n",
      "Omnibus:                    65615.012   Durbin-Watson:                   2.002\n",
      "Prob(Omnibus):                  0.000   Jarque-Bera (JB):      66986650571.956\n",
      "Skew:                          91.241   Prob(JB):                         0.00\n",
      "Kurtosis:                    9726.539   Cond. No.                         3.84\n",
      "==============================================================================\n",
      "\n",
      "Warnings:\n",
      "[1] Standard Errors assume that the covariance matrix of the errors is correctly specified.\n"
     ]
    }
   ],
   "source": [
    "print(result_ols.summary())"
   ]
  },
  {
   "cell_type": "markdown",
   "metadata": {},
   "source": [
    "The results are not statistically significant as well."
   ]
  },
  {
   "cell_type": "markdown",
   "metadata": {},
   "source": [
    "We can also include the control variable in the model to see if it will change the relations between the negative/positive tone and the number of retweets. We will use 'from_user_friendcount' justifying it by the fact that the more popular Tweeter users (with the higher number of friends) could get more retweets due to the greater exposure of their tweets to the online audience."
   ]
  },
  {
   "cell_type": "code",
   "execution_count": 1010,
   "metadata": {},
   "outputs": [],
   "source": [
    "ols_stat = sm.OLS(merged['retweets_total'], sm.add_constant(merged[['from_user_friendcount', 'overall_negative', 'overall_neutral']]))"
   ]
  },
  {
   "cell_type": "code",
   "execution_count": 1011,
   "metadata": {},
   "outputs": [],
   "source": [
    "result_ols = ols_stat.fit()"
   ]
  },
  {
   "cell_type": "code",
   "execution_count": 1012,
   "metadata": {},
   "outputs": [
    {
     "name": "stdout",
     "output_type": "stream",
     "text": [
      "                            OLS Regression Results                            \n",
      "==============================================================================\n",
      "Dep. Variable:         retweets_total   R-squared:                       0.003\n",
      "Model:                            OLS   Adj. R-squared:                  0.003\n",
      "Method:                 Least Squares   F-statistic:                     18.36\n",
      "Date:                Mon, 23 Mar 2020   Prob (F-statistic):           6.88e-12\n",
      "Time:                        23:29:55   Log-Likelihood:                -63138.\n",
      "No. Observations:               16998   AIC:                         1.263e+05\n",
      "Df Residuals:                   16994   BIC:                         1.263e+05\n",
      "Df Model:                           3                                         \n",
      "Covariance Type:            nonrobust                                         \n",
      "=========================================================================================\n",
      "                            coef    std err          t      P>|t|      [0.025      0.975]\n",
      "-----------------------------------------------------------------------------------------\n",
      "const                     0.1199      0.172      0.699      0.485      -0.216       0.456\n",
      "from_user_friendcount  5.805e-05   8.02e-06      7.243      0.000    4.23e-05    7.38e-05\n",
      "overall_negative         -0.0602      0.205     -0.294      0.769      -0.461       0.341\n",
      "overall_neutral           0.1958      0.214      0.916      0.360      -0.223       0.615\n",
      "==============================================================================\n",
      "Omnibus:                    65680.709   Durbin-Watson:                   2.002\n",
      "Prob(Omnibus):                  0.000   Jarque-Bera (JB):      67748141911.013\n",
      "Skew:                          91.524   Prob(JB):                         0.00\n",
      "Kurtosis:                    9781.660   Cond. No.                     4.08e+04\n",
      "==============================================================================\n",
      "\n",
      "Warnings:\n",
      "[1] Standard Errors assume that the covariance matrix of the errors is correctly specified.\n",
      "[2] The condition number is large, 4.08e+04. This might indicate that there are\n",
      "strong multicollinearity or other numerical problems.\n"
     ]
    }
   ],
   "source": [
    "print(result_ols.summary())"
   ]
  },
  {
   "cell_type": "markdown",
   "metadata": {},
   "source": [
    "Read evaluation pf the results below."
   ]
  },
  {
   "cell_type": "markdown",
   "metadata": {},
   "source": [
    "# Evaluation. Summary of the findings and implications to the business problem."
   ]
  },
  {
   "cell_type": "markdown",
   "metadata": {},
   "source": [
    "Overall, the conducted analyses showed no statistically significant relations between the positivity or negativity of the tone of the tweets about democrats and the number of the retweets they gained. Therefore, the hypothesis of the current analysis, namely that the negative tweets get more retweets than positive tweets about democrats, was not supported. \n",
    "However, based on the results of the visualization of relations between positive/negative tweets and the number of retweets they received we could make some preliminary assumptions regarding the inspected data set (see the visualization below)."
   ]
  },
  {
   "cell_type": "code",
   "execution_count": 1014,
   "metadata": {},
   "outputs": [
    {
     "data": {
      "text/plain": [
       "<matplotlib.axes._subplots.AxesSubplot at 0x1a2ac64ab48>"
      ]
     },
     "execution_count": 1014,
     "metadata": {},
     "output_type": "execute_result"
    },
    {
     "data": {
      "image/png": "[encoded data removed]",
      "text/plain": [
       "<Figure size 432x288 with 1 Axes>"
      ]
     },
     "metadata": {
      "needs_background": "light"
     },
     "output_type": "display_data"
    }
   ],
   "source": [
    "sns.barplot(x='ispositive', y='retweets_total', data=sentimental)"
   ]
  },
  {
   "cell_type": "markdown",
   "metadata": {},
   "source": [
    "Overall, the conducted analyses showed no statistically significant relations between the positivity or negativity of the tone of the tweets about democrats and the number of the retweets they gained. Therefore, the hypothesis of the current analysis, namely that the negative tweets get more retweets than positive tweets about democrats, was not supported. \n",
    "However, based on the results of the visualization of relations between positive/negative tweets and the number of retweets they received we could make some preliminary assumptions regarding the inspected data set (see the visualization above).\n",
    "\n",
    "Specifically, we could contemplate, that there could be a certain trend in the relations between emotionality of the tweets and the number of time they got retweeted, namely the positive tweets gained more retweets than negative (roughly around 0.25 against 0.022 respectively). However, the visualization also shows that the confidence intervals of two groups overlap, that makes the results insignificant. We could assume that the greater sample size of the tweets (see the Limitations and Other Steps section) could change the confident intervals and lead to statistical significance of the results, but based on the scrutinized data we could not be sure that that will come true and, therefore, we leave it as an assumption only.\n",
    "\n",
    "The similar tendency in data was showed by predictive analytics using machine learning. According to the predictions, positive tweet would have on average 0.074 retweets against 0.068 for negative. Meanwhile neutral tweet has the lowest among other categories predicted amount of retweets — 0.059 However, it could be true only for the given data set since the linear regression model shows no statistical significance or no correlation between the tone of the tweet and the retweets. P values for both categories were greater than 0.05 and R-squared appeared to be 0. \n",
    "\n",
    "Same results were showed after running the second model — those observations mean that the tried models are poorly fitting and the variables we used have no statistically significant correlation with the number of retweets. Nevertheless, we created another model with a control variable 'from_user_friendcount' the results were significant (P-value = 0.000, although with a very low R-squared - 0.003), but it  showed a very little effect of this variable."
   ]
  },
  {
   "cell_type": "markdown",
   "metadata": {},
   "source": [
    "# Limitations and Next Steps"
   ]
  },
  {
   "cell_type": "markdown",
   "metadata": {},
   "source": [
    "Relatively small sample size of retweets could be considered as one of the limitations of this work. For approximately 17,000 tweets we have relatively low retweet rate ‒ overall about 740 tweets. We can only assumed that one of the reasons of it could be that a lot of tweets were generated by so called ‘Twitter’ bots – the software that could autonomously acts as an ordinary users and being able to tweet, retweet, follow, unfollowing, and even  message other users. We initially thought that this kind of Twitter ids would have smaller number of friends and therefore lesser (or 0) number of retweets.\n",
    "\n",
    "We tried to address this issue by using the 'from_user_friendcount' variable. We assumed that those users with the greater friend lists could have a greater effect over others, but we should admit, that it is not necessarily true. One should emphasize that Twitter bots acting as users could potentially also have a large online ‘bots’ friends circle since they can follow each other.\n",
    "\n",
    "Another limitation we had was the fact that some of the initial tweets was reposted from the media channels, such as CNN, that change the nature of the tweet and possible could be eliminated. \n",
    "\n",
    "Overall, the next step in trying to find what influences users to retweets the particular tweets we would try to identify if the tweet was tweeted by the real person of by the bots, although it is a tremendously complicated task to fulfill. \n",
    "\n",
    "Overall, for the further analysis other variables could be examined to find what factor influences the number of times the tweet got retweeted. Namely, it could be, for example, the location (in one state democrats are more popular than others) or number of likes of dislikes (that makes the messages more popular) of the initial tweets received. To support such hypotheses the relevant academic literature should be reviewed.\n"
   ]
  },
  {
   "cell_type": "markdown",
   "metadata": {},
   "source": [
    "# Ethical, Privacy and Normative Considerations"
   ]
  },
  {
   "cell_type": "markdown",
   "metadata": {},
   "source": [
    "While working with the data there are some ethical considerations that the organization should have. One of the most important ethical issues while working with the social media data is the privacy intervention as well as the ownership of the digital data, according to Neil Lawrence (2015). Even though the concept of privacy is notoriously difficult to define and fix (Finn and Wadhwa, 2014) it could be the real issue in our case. The data that we use for the analysis could enable to identify the real users given that we have a location information in our data set and a lot of users on Twitter use real names and pictures, that all bear a treat to the anonymity of people. \n",
    "\n",
    "Moreover, such data is being used without the consent of the Tweeter users to whom that data relates, that arises the issue of transparency, where users are explicitly notified about the usage of their data. Such privacy intervention could provoke outrage from those who have been (or might have been) the targets of the intervention without prior consent (Shah et al., 2015).\n",
    "\n",
    "As for the users of the data analysis they should be aware of the issue of voters manipulation should be considered. Based on the sentiment analysis results individuals could become the objects of personalized advertising (Finn and Wadhwa, 2014). If following the given recommendation any correlation between sentiment and other variables from the data set could be established it could be used even to manipulate the individuals’ sentiments without their understanding (Finn and Wadhwa, 2014). \n",
    "\n",
    "Profiling and segmentation are another serious issue with regards to the big data collection and usage, that is widely discussed in academia and professional circles. Profiling, according to Wigan and Clarke (2013), implies inferring from existing data holdings a set of characteristics for a particular category of person, with the intention of singling out other individuals who closely fit that set of characteristics. That could lead to exercise of preexisting biases for,\n",
    "and particularly against, racial, ethnic, religious, and socioeconomic stereotypes (Wigan and Clarke, 2013).\n",
    "Moreover, segmentation leads to bigger social inequality when, specifically in our example, political debate can become limited as campaigns direct their strategies to particular voters, while ignoring less powerful and influencing part of the electorate (Kreiss and Howard, 2010). Segmentation also jeopardizes the diversity of the people’s choice since the users are being exposed to a certain information according to their ‘customer group’ assigned based on digital data analysis. That makes their choice restricted and even nor fully informed.\n",
    "\n",
    "More broader, segmentation of the audience could threaten the participatory democracy by excluding the niche group (as outliers or those who are far from the mean in the analyzed data set) from the public sphere, that should be also taken in consideration by the users of the digital data analysis results. Thus, as stated by Harper (2017), the generalized result of digital data analysis would lead to hegemony of majority and lack of pluralism.\n"
   ]
  },
  {
   "cell_type": "markdown",
   "metadata": {},
   "source": [
    "# Bibliography\n",
    "\n",
    "Damstra, A., & Boukes, M.(2018). The Economy, the News, and the Public: A Longitudinal Study of the Impact of Economic News on Economic Evaluations and Expectations. Communication Research, 1-25.\n",
    "\n",
    "Finn, R. L., & Wadhwa, K. (2014). The ethics of “smart” advertising and regulatory initiatives in the consumer intelligence industry. info.\n",
    "\n",
    "Harper, T. (2017). The big data public and its problems: Big data and the structural transformation of the public sphere. New Media & Society, 19(9), 1424-1439.\n",
    "\n",
    "Kreiss, D., & Howard, P. N. (2010). New challenges to political privacy: Lessons from the first US Presidential race in the Web 2.0 era. International Journal of Communication, 4, 19.\n",
    "\n",
    "Lawrence, N. (2015, March 5). Beware the rise of the digital oligarchy. Retrieved from The Guardian: https://www.theguardian.com/media-network/2015/mar/05/digital-oligarchy-algorithms-personal-data\n",
    "\n",
    "Richards, B. (2004). The emotional deficit in political communication. Political Communication, 21(3), 339-352.\n",
    "\n",
    "Shah, D. V., Cappella, J. N., & Neuman, W. R. (2015). Big data, digital media, and computational social science: Possibilities and perils. The ANNALS of the American Academy of Political and Social Science, 659(1), 6-13.\n",
    "\n",
    "Soroka, S. (2006). Good News and Bad News: Asymmetric Responses to Economic Information. The Journal of Politics, 68(2), 372-385.\n",
    "\n",
    "Tetlock, P. C. (2007). Giving content to investor sentiment: The role of media in the stock market. The Journal of finance, 62(3), 1139-1168.\n",
    "\n",
    "Wigan, M. R., & Clarke, R. (2013). Big data's big unintended consequences. Computer, 46(6), 46-53."
   ]
  }
 ],
 "metadata": {
  "kernelspec": {
   "display_name": "Python 3",
   "language": "python",
   "name": "python3"
  },
  "language_info": {
   "codemirror_mode": {
    "name": "ipython",
    "version": 3
   },
   "file_extension": ".py",
   "mimetype": "text/x-python",
   "name": "python",
   "nbconvert_exporter": "python",
   "pygments_lexer": "ipython3",
   "version": "3.7.4"
  }
 },
 "nbformat": 4,
 "nbformat_minor": 2
}
